{
 "cells": [
  {
   "cell_type": "markdown",
   "metadata": {
    "id": "8C_VtC1KxfYq"
   },
   "source": []
  },
  {
   "cell_type": "markdown",
   "metadata": {
    "id": "JhA6MWAeOLW5"
   },
   "source": [
    "# Craig'n'Dave videos\n",
    "\n",
    "1.   [Data types](https://student.craigndave.org/videos/aqa-alevel-slr01-introduction-to-programming-part-1-data-types)\n",
    "2.   [Basic constructs](https://student.craigndave.org/videos/aqa-alevel-slr01-introduction-to-programming-part-2-basic-constructs)\n",
    "3.   [Variables & constraints](https://student.craigndave.org/videos/aqa-alevel-slr01-introduction-to-programming-part-3-variables-and-constants)\n",
    "4.   [Mathematical operators](https://student.craigndave.org/videos/aqa-alevel-slr01-introduction-to-programming-part-4-mathematical-operators)\n",
    "5.   [String handling](https://student.craigndave.org/videos/aqa-alevel-slr01-introduction-to-programming-part-5-string-handling)\n",
    "6.   [Random numbers](https://student.craigndave.org/videos/aqa-alevel-slr01-introduction-to-programming-part-6-random-numbers)\n",
    "\n"
   ]
  },
  {
   "cell_type": "markdown",
   "metadata": {
    "id": "QXZC3AB7Jcs3"
   },
   "source": [
    "# Data Types\n"
   ]
  },
  {
   "cell_type": "code",
   "execution_count": 1,
   "metadata": {
    "colab": {
     "base_uri": "https://localhost:8080/"
    },
    "id": "ncybOBh1Jpzr",
    "outputId": "a23a33c0-fc4f-42d9-ad5e-53dcb4df54a5"
   },
   "outputs": [
    {
     "name": "stdout",
     "output_type": "stream",
     "text": [
      "(2+3j) <class 'complex'>\n"
     ]
    }
   ],
   "source": [
    "import datetime\n",
    "test_variable = 2+ 3j\n",
    "print(test_variable, type(test_variable))\n"
   ]
  },
  {
   "cell_type": "code",
   "execution_count": 2,
   "metadata": {
    "colab": {
     "base_uri": "https://localhost:8080/"
    },
    "id": "lD-VydUr1lQa",
    "outputId": "3873670a-7e2d-43be-a49f-11b9c3e7d625"
   },
   "outputs": [
    {
     "name": "stdout",
     "output_type": "stream",
     "text": [
      "1/2 0.5 <class 'float'>\n",
      "1//2 0 <class 'float'>\n",
      "10//3 3 <class 'int'>\n",
      "10.0//3 3.0 <class 'float'>\n",
      "10.0/3 3.3333333333333335 <class 'float'>\n",
      "<class 'float'>\n",
      "<class 'float'>\n"
     ]
    }
   ],
   "source": [
    "print('1/2', 1/2,type(1/2))\n",
    "print('1//2', 1//2,type(1/2))\n",
    "print('10//3', 10//3,type(10//3))\n",
    "print('10.0//3',10.0//3,type(10.0//3))\n",
    "print('10.0/3', 10.0/3,type(10.0/3))\n",
    "print(type(15/5.0))\n",
    "print(type(15//5.0))\n",
    "# print(type(5/0))"
   ]
  },
  {
   "cell_type": "code",
   "execution_count": 3,
   "metadata": {
    "colab": {
     "base_uri": "https://localhost:8080/"
    },
    "id": "3yPMy_JM3jy9",
    "outputId": "f352fe6e-9e90-407d-9672-5202527433fe"
   },
   "outputs": [
    {
     "name": "stdout",
     "output_type": "stream",
     "text": [
      "2 <class 'int'> 28\n"
     ]
    }
   ],
   "source": [
    "from sys import getsizeof\n",
    "test_var = 2 #set([1,2,3,4,5,6,7,8,9])\n",
    "print(test_var, type(test_var), getsizeof(test_var))"
   ]
  },
  {
   "cell_type": "markdown",
   "metadata": {
    "id": "iewaDX-hxQD1"
   },
   "source": [
    "# Conditions"
   ]
  },
  {
   "cell_type": "markdown",
   "metadata": {
    "id": "Jf5DZNFC5QwC"
   },
   "source": [
    "## `if...elif...else` statements\n",
    "\n",
    "- [Craig'n'Dave](https://student.craigndave.org/videos/aqa-alevel-slr01-introduction-to-programming-part-2-basic-constructs)\n",
    "- [w3schools](https://www.w3schools.com/python/python_conditions.asp)"
   ]
  },
  {
   "cell_type": "markdown",
   "metadata": {
    "id": "cgF2EMaeLjn4"
   },
   "source": [
    "## If expression (or ternary operator)\n",
    "\n",
    "`value_if_true if condition else value_if_false`"
   ]
  },
  {
   "cell_type": "code",
   "execution_count": 4,
   "metadata": {
    "colab": {
     "base_uri": "https://localhost:8080/",
     "height": 34
    },
    "id": "MomyYV3MLvzF",
    "outputId": "9de5a009-9c14-4608-9364-0e7e238d6e0d"
   },
   "outputs": [
    {
     "name": "stdout",
     "output_type": "stream",
     "text": [
      "banana is yellow\n"
     ]
    }
   ],
   "source": [
    "fruit = 'banana'\n",
    "colour = 'yellow' if fruit == 'banana' else 'green'\n",
    "print(f'{fruit} is {colour}')"
   ]
  },
  {
   "cell_type": "markdown",
   "metadata": {
    "id": "07AlzgRh1gRe"
   },
   "source": [
    "Another, even shorter version is:\n",
    "`boolean or value_if_false`\n",
    "This works because zero or empty variables are usually interpretted as False by Python."
   ]
  },
  {
   "cell_type": "code",
   "execution_count": 5,
   "metadata": {
    "colab": {
     "base_uri": "https://localhost:8080/",
     "height": 51
    },
    "id": "XXH7klZh10Y5",
    "outputId": "413ea1d6-fc11-485c-ee8d-90b1c6bb4f84"
   },
   "outputs": [
    {
     "name": "stdout",
     "output_type": "stream",
     "text": [
      "True banana\n",
      "Message is blank\n"
     ]
    }
   ],
   "source": [
    "fruit1 = True or 'pear'\n",
    "fruit2 = False or 'banana'\n",
    "print(fruit1, fruit2)\n",
    "message = \"\"\n",
    "print(message or \"Message is blank\")"
   ]
  },
  {
   "cell_type": "markdown",
   "metadata": {
    "id": "J4UnFigcvyiP"
   },
   "source": [
    "# Iteration\n",
    "Iteration can be _definite_ or _indefinite_. \n",
    "Definite iterations loop for a pre-determined number of times. This is usally achieved with a `for` loop\n",
    "Indefinite iterations have a test condition is checked every time through the loop. The loop only continues if the condition is met. This is usually acheived with a `while` loop.\n",
    "\n",
    "\n",
    "Loops are often be _counter controled_. This could be achieved using definite or indefinite iteration though a `for` loop is probably the best option. \n"
   ]
  },
  {
   "cell_type": "markdown",
   "metadata": {
    "id": "i821-udIjLnL"
   },
   "source": [
    "## `for` loops\n",
    "- [Craig'n'Dave](https://student.craigndave.org/videos/aqa-alevel-slr01-introduction-to-programming-part-2-basic-constructs)\n",
    "- [w3schools](https://www.w3schools.com/python/python_for_loops.asp) "
   ]
  },
  {
   "cell_type": "code",
   "execution_count": 6,
   "metadata": {
    "colab": {
     "base_uri": "https://localhost:8080/",
     "height": 68
    },
    "id": "lKMeZtrn3lDo",
    "outputId": "b4aacce9-3d61-4686-99f4-79399a3f68a3"
   },
   "outputs": [
    {
     "name": "stdout",
     "output_type": "stream",
     "text": [
      "Python\n",
      "programming\n",
      "rocks\n"
     ]
    }
   ],
   "source": [
    "# you can use this to iterate through items in a list, too\n",
    "wordList = ['Python','programming','rocks']\n",
    "for eachWord in wordList:\n",
    "\tprint(eachWord)"
   ]
  },
  {
   "cell_type": "code",
   "execution_count": 7,
   "metadata": {
    "colab": {
     "base_uri": "https://localhost:8080/",
     "height": 68
    },
    "id": "TY7FcSwnfIxF",
    "outputId": "e7d3e4d8-b26b-4ade-8620-fa6896492fbc"
   },
   "outputs": [
    {
     "name": "stdout",
     "output_type": "stream",
     "text": [
      "1. Python\n",
      "2. programming\n",
      "3. rocks\n"
     ]
    }
   ],
   "source": [
    "# to iterate through an item and have both count and value to manipulate\n",
    "wordList = ['Python','programming','rocks']\n",
    "for count, eachWord in enumerate(wordList, 1):\n",
    "  print(f'{count}. {eachWord}')\n",
    "  #print(eachWord)"
   ]
  },
  {
   "cell_type": "markdown",
   "metadata": {
    "id": "sHDjqPJr3LIB"
   },
   "source": [
    "## using `range(a,b,c)`\n",
    "- produces a sequence of numbers `a≤x<b` in steps of `c` \n",
    "- [w3schools](https://www.w3schools.com/python/ref_func_range.asp)"
   ]
  },
  {
   "cell_type": "code",
   "execution_count": 8,
   "metadata": {
    "colab": {
     "base_uri": "https://localhost:8080/",
     "height": 68
    },
    "id": "iSJ68qnXUHa3",
    "outputId": "ade302d9-5642-4e8a-a6ff-70ffc1149f11"
   },
   "outputs": [
    {
     "name": "stdout",
     "output_type": "stream",
     "text": [
      "10\n",
      "12\n",
      "14\n"
     ]
    }
   ],
   "source": [
    "for x in range(10, 15, 2):\n",
    "  print(x)"
   ]
  },
  {
   "cell_type": "code",
   "execution_count": 9,
   "metadata": {
    "colab": {
     "base_uri": "https://localhost:8080/",
     "height": 136
    },
    "id": "R-0KwXG32IPX",
    "outputId": "6e345468-ce50-4382-c21e-669a893a6708"
   },
   "outputs": [
    {
     "name": "stdout",
     "output_type": "stream",
     "text": [
      "34\n",
      "32\n",
      "30\n",
      "28\n",
      "26\n",
      "24\n",
      "22\n"
     ]
    }
   ],
   "source": [
    "# you can use this to go backwards, too **as long as you have a negative step-size and your start & end indices are the right way around**\n",
    "for i in range(34, 20, -2):\n",
    "\tprint(i)"
   ]
  },
  {
   "cell_type": "code",
   "execution_count": 10,
   "metadata": {
    "colab": {
     "base_uri": "https://localhost:8080/",
     "height": 68
    },
    "id": "TpcX4VsnUpNn",
    "outputId": "a4ae9d2f-6eb9-44b2-d4c4-75b454b380bd"
   },
   "outputs": [
    {
     "name": "stdout",
     "output_type": "stream",
     "text": [
      "0. Python\n",
      "1. programming\n",
      "2. rocks\n"
     ]
    }
   ],
   "source": [
    "wordList = ['Python','programming','rocks']\n",
    "for i in range(len(wordList)):\n",
    "  print(f'{i}. {wordList[i]}')"
   ]
  },
  {
   "cell_type": "code",
   "execution_count": 11,
   "metadata": {
    "colab": {
     "base_uri": "https://localhost:8080/"
    },
    "id": "5UrXn6En6UWP",
    "outputId": "7918075b-34b2-4e3b-ed84-0f4f591765da"
   },
   "outputs": [
    {
     "name": "stdout",
     "output_type": "stream",
     "text": [
      "0 Python\n",
      "1 programming\n",
      "2 rocks\n"
     ]
    }
   ],
   "source": [
    "wordList = ['Python','programming','rocks']\n",
    "for number, word in enumerate(wordList):\n",
    "  print(number, word)"
   ]
  },
  {
   "cell_type": "markdown",
   "metadata": {
    "id": "LcuCooCr4BvB"
   },
   "source": [
    "## `while` loops\n",
    "- [Craig'n'Dave](https://student.craigndave.org/videos/aqa-alevel-slr01-introduction-to-programming-part-2-basic-constructs)\n",
    "- [w3schools](https://www.w3schools.com/python/python_while_loops.asp) "
   ]
  },
  {
   "cell_type": "code",
   "execution_count": 12,
   "metadata": {
    "colab": {
     "base_uri": "https://localhost:8080/",
     "height": 136
    },
    "id": "5DALPGsGvfLf",
    "outputId": "361f0ebb-e571-4041-dcff-3420c8c468f0"
   },
   "outputs": [
    {
     "name": "stdout",
     "output_type": "stream",
     "text": [
      "34\n",
      "32\n",
      "30\n",
      "28\n",
      "26\n",
      "24\n",
      "22\n"
     ]
    }
   ],
   "source": [
    "i = 34\n",
    "while i > 20:\n",
    "  print(i)\n",
    "  i = i - 2"
   ]
  },
  {
   "cell_type": "markdown",
   "metadata": {
    "id": "yKcZqYp2w_y_"
   },
   "source": [
    "## Example of indefinite, definite and recursive iteration"
   ]
  },
  {
   "cell_type": "code",
   "execution_count": 13,
   "metadata": {
    "colab": {
     "base_uri": "https://localhost:8080/"
    },
    "id": "NyJHBgFzw0ql",
    "outputId": "ad8b61e6-489d-4b11-cc17-9fece784f44c"
   },
   "outputs": [
    {
     "name": "stdout",
     "output_type": "stream",
     "text": [
      "5040\n",
      "5040\n",
      "5040\n"
     ]
    }
   ],
   "source": [
    "# Calculate factorial n using indefinite iteration\n",
    "def factorial_indefinite(n):\n",
    "    total = 1\n",
    "    i = 1\n",
    "    while i <= n:\n",
    "        total = total * i\n",
    "        i += 1\n",
    "    return total\n",
    "\n",
    "\n",
    "# Calculate factorial n using definite iteration\n",
    "def factorial_definite(n):\n",
    "    total = 1\n",
    "    for i in range(1, n+1):\n",
    "        total = total * i\n",
    "    return total\n",
    "\n",
    "\n",
    "# Calculate factorial n using a recursion\n",
    "def factorial_recursive(n):\n",
    "    if n == 1:\n",
    "        return 1\n",
    "    else:\n",
    "        return n * factorial_recursive(n-1)\n",
    "\n",
    "\n",
    "value = 7\n",
    "print(factorial_indefinite(value))\n",
    "print(factorial_definite(value))\n",
    "print(factorial_recursive(value))"
   ]
  },
  {
   "cell_type": "markdown",
   "metadata": {
    "id": "soSwAzhs4WEs"
   },
   "source": [
    "# Lists\n",
    "- [Craig'n'Dave](https://student.craigndave.org/videos/aqa-alevel-slr01-introduction-to-programming-part-1-data-types)\n",
    "- [w3schools](https://www.w3schools.com/python/python_lists.asp) "
   ]
  },
  {
   "cell_type": "code",
   "execution_count": 14,
   "metadata": {
    "id": "K-euNJbnxumv"
   },
   "outputs": [
    {
     "name": "stdout",
     "output_type": "stream",
     "text": [
      "cat\n"
     ]
    }
   ],
   "source": [
    "pets = ['goldfish', 'cat', 'dog']\n",
    "print(pets[1])"
   ]
  },
  {
   "cell_type": "markdown",
   "metadata": {
    "id": "t7haZ_oLx115"
   },
   "source": [
    "Note that lists in Python are “zero indexed” - the first item is 0.\n",
    "\n",
    "| Index | 0          | 1     | 2     |   |\n",
    "|-------|------------|-------|-------|---|\n",
    "| pets  | 'goldfish' | 'cat' | 'dog' |   |\n",
    "\n",
    "- `list.append(item)` adds item to the end of the list\n",
    "- `list.insert(0, item)` adds an item into position 0"
   ]
  },
  {
   "cell_type": "code",
   "execution_count": 15,
   "metadata": {
    "colab": {
     "base_uri": "https://localhost:8080/"
    },
    "id": "XoCZImR6xSTl",
    "outputId": "db4503ed-81a5-4074-945b-368eb8b23df7"
   },
   "outputs": [
    {
     "name": "stdout",
     "output_type": "stream",
     "text": [
      "['gerbil', 'goldfish', 'cat', 'dog', 'lion', 'tiger', 'bear', 'monkey']\n"
     ]
    }
   ],
   "source": [
    "pets = ['goldfish', 'cat', 'dog']\n",
    "wild_animals = ['lion', 'tiger', 'bear']\n",
    "animals = pets + wild_animals\n",
    "\n",
    "animals.append('monkey')\n",
    "animals.insert(0, 'gerbil')\n",
    "\n",
    "print(animals)\n",
    "#animals.append(wild_animals)\n",
    "#print(animals)\n",
    "#print(animals[:-3:-1])"
   ]
  },
  {
   "cell_type": "markdown",
   "metadata": {
    "id": "kZYUrifhy9Ml"
   },
   "source": [
    "## List Slicing\n",
    "| | |\n",
    "|--|--|\n",
    "|`a[start:stop]`|items from `start` up to, but not including, `stop`.|\n",
    "|`a[start:]`|items from `start` to the end|\n",
    "|`a[:stop]`|items from the beginning up to, but not including, `stop`.|\n",
    "|`a[:]`|a copy of the whole array|\n",
    "| `a[start:stop:step]` | items from `start` to `stop` (not including `stop`), going up by `step`. |\n",
    "`a[1:10:2]` | The 1st, 3rd, 5th, 7th and 9th items. |\n",
    "|`a[::-1]`|Stepping backwards through the list.|\n",
    "|`a[:-3:-1]`|The last two items, reversed.|\n"
   ]
  },
  {
   "cell_type": "code",
   "execution_count": 16,
   "metadata": {
    "colab": {
     "base_uri": "https://localhost:8080/"
    },
    "id": "1uboHBnN0Odr",
    "outputId": "f2f41300-0dbc-49a0-feea-4ddc78943309"
   },
   "outputs": [
    {
     "name": "stdout",
     "output_type": "stream",
     "text": [
      "['cat', 'dog', 'lion']\n",
      "[]\n",
      "['gerbil', 'goldfish', 'cat', 'dog', 'lion', 'tiger', 'bear', 'monkey', 'gerbil', 'goldfish', 'cat', 'dog', 'lion', 'tiger', 'bear', 'monkey', 'gerbil', 'goldfish', 'cat', 'dog', 'lion', 'tiger', 'bear', 'monkey', 'gerbil', 'goldfish', 'cat', 'dog', 'lion', 'tiger', 'bear', 'monkey', 'gerbil', 'goldfish', 'cat', 'dog', 'lion', 'tiger', 'bear', 'monkey']\n",
      "[0, 0, 0, 0, 0, 0, 0, 0, 0, 0]\n"
     ]
    }
   ],
   "source": [
    "print(animals[2:5])\n",
    "print(animals[-2:-4])\n",
    "print(animals * 5)\n",
    "print([0] * 10)"
   ]
  },
  {
   "cell_type": "code",
   "execution_count": 17,
   "metadata": {
    "colab": {
     "base_uri": "https://localhost:8080/"
    },
    "id": "59uucJ75urme",
    "outputId": "f1b4dee3-be8d-4610-8b08-5ad426429900"
   },
   "outputs": [
    {
     "name": "stdout",
     "output_type": "stream",
     "text": [
      "['Jake', 'Thomas', 'Lenny', 'Gavin', 'Matthew', 'Ian', 'Rohan']\n",
      "Ed, William, Toby, Freddie, Rohan, Ian, Matthew, Gavin, Lenny, Thomas and Jake\n"
     ]
    }
   ],
   "source": [
    "name_list = ['Ed', 'William', 'Toby', 'Freddie', 'Rohan', 'Ian', 'Matthew', 'Gavin', 'Lenny', 'Thomas', 'Jake']\n",
    "\n",
    "print(name_list[:-8:-1])\n",
    "\n",
    "#for i in range(len(name_list)):\n",
    "#  print(i, name_list[i])\n",
    "\n",
    "for name in name_list[:-2]:\n",
    "  print(name, end=', ')\n",
    "print(name_list[-2], 'and', name_list[-1])\n"
   ]
  },
  {
   "cell_type": "code",
   "execution_count": 18,
   "metadata": {
    "colab": {
     "base_uri": "https://localhost:8080/"
    },
    "id": "seyRWMdDw5uA",
    "outputId": "3caf1174-3b9c-4c7d-f1ad-ed2b547b437c"
   },
   "outputs": [
    {
     "name": "stdout",
     "output_type": "stream",
     "text": [
      "['Ed', 'William', 'Toby', 'Freddie', 'Rohan', 'Ian', 'Matthew', 'Gavin', 'Lenny', 'Thomas', 'Jake', 'Toby']\n",
      "2\n",
      "2\n"
     ]
    }
   ],
   "source": [
    "name_list.append('Toby')\n",
    "print(name_list)\n",
    "print(name_list.index('Toby'))\n",
    "print(name_list.count('Toby'))\n",
    "\n"
   ]
  },
  {
   "cell_type": "markdown",
   "metadata": {
    "id": "friKlSKe0m9W"
   },
   "source": [
    "## Getting information about a list:\n",
    "\n",
    "| | |\n",
    "|-|-|\n",
    "|`x in my_list`|True if object x is in the list|\n",
    "|`x not in my_list`|True if object x is not in the list|\n",
    "|`len(my_list)`|The length of the list|\n",
    "|`max(my_list)`|The largest item|\n",
    "|`min(my_list)`|The smallest item|\n",
    "|`sum(my_list)`|The sum of all the items|\n",
    "|`lst.count(item)`|Returns the number of occurences of item in the list lst|\n",
    "|`lst.index(item)`|Returns the index of the first occurence of item in the list|\n",
    "\n"
   ]
  },
  {
   "cell_type": "code",
   "execution_count": 19,
   "metadata": {
    "colab": {
     "base_uri": "https://localhost:8080/"
    },
    "id": "9i-WfvaXegDW",
    "outputId": "62f2345a-bdc1-44cd-ba04-2f8c160b081f"
   },
   "outputs": [
    {
     "name": "stdout",
     "output_type": "stream",
     "text": [
      "['Ed', 'William', 'Toby', 'Freddie', 'Rohan', 'Ian', 'Matthew', 'Gavin', 'Lenny', 'Thomas', 'Jake']\n",
      "Ed, William, Toby, Freddie, Rohan, Ian, Matthew, Gavin, Lenny, Thomas, and Jake\n"
     ]
    }
   ],
   "source": [
    "nameList = ['Ed', 'William', 'Toby', 'Freddie', 'Rohan', 'Ian', 'Matthew', 'Gavin', 'Lenny', 'Thomas', 'Jake']\n",
    "\n",
    "print(nameList)\n",
    "for name in nameList[:-1]:\n",
    "  print(name, end=', ')\n",
    "print('and', nameList[-1])\n",
    "\n",
    "#for i in range(len(nameList)):\n",
    "#  print(i, nameList[i])"
   ]
  },
  {
   "cell_type": "markdown",
   "metadata": {
    "id": "ePmuOFZR1nF_"
   },
   "source": [
    "## Manipulating lists\n",
    "| | |\n",
    "|-|-|\n",
    "|`lst.pop()`|Removes the last item in the list and returns it.|\n",
    "|`lst.remove(item)`|Removes the first occurence of item in the list|\n",
    "`lst.reverse()`|Reverses the order of items in the list\n",
    "`lst.sort()`|Sorts the list\n",
    "|`my_list * n`|Joins n copies of the my_list into one big lists|\n"
   ]
  },
  {
   "cell_type": "code",
   "execution_count": 20,
   "metadata": {
    "colab": {
     "base_uri": "https://localhost:8080/"
    },
    "id": "_m1ZDn4T97G5",
    "outputId": "c38c1f91-5b1b-4063-9ff4-a76e107b853b"
   },
   "outputs": [
    {
     "name": "stdout",
     "output_type": "stream",
     "text": [
      "['a', 'b', 'c', 'd']\n",
      "a ['b', 'c', 'd']\n",
      "['e', 'b', 'c', 'd']\n",
      "['e', 'b', 'c', 'd', 'f']\n"
     ]
    }
   ],
   "source": [
    "test_list = ['a', 'b','c','d']\n",
    "print(test_list)\n",
    "letter = test_list.pop(0)\n",
    "print(letter, test_list)\n",
    "test_list.insert(0, 'e')\n",
    "print(test_list)\n",
    "test_list.append('f')\n",
    "print(test_list)"
   ]
  },
  {
   "cell_type": "markdown",
   "metadata": {
    "id": "ISE75mrCIFRD"
   },
   "source": [
    "## List Comprehension\n",
    "\n",
    "Official documentation:\n",
    "https://docs.python.org/3/tutorial/datastructures.html#list-comprehensions\n",
    "\n",
    "A useful website:\n",
    "https://www.programiz.com/python-programming/list-comprehension\n"
   ]
  },
  {
   "cell_type": "markdown",
   "metadata": {
    "id": "5ozfLmpvnLa7"
   },
   "source": [
    "### Examples"
   ]
  },
  {
   "cell_type": "code",
   "execution_count": 21,
   "metadata": {
    "colab": {
     "base_uri": "https://localhost:8080/"
    },
    "id": "1iXcg_yFIMKc",
    "outputId": "43892aed-d2fa-4449-dc5f-42cc1beed621"
   },
   "outputs": [
    {
     "name": "stdout",
     "output_type": "stream",
     "text": [
      "[3, 4, 5, 6, 7, 8, 9, 10, 11, 12]\n"
     ]
    }
   ],
   "source": [
    "# For every item in original_list, name the item x and put x into the new list.\n",
    "original_list = [0, 1, 2, 3, 4, 5, 6, 7, 8, 9]\n",
    "\n",
    "new_list = [item+3 for item in original_list]\n",
    "print(new_list)"
   ]
  },
  {
   "cell_type": "code",
   "execution_count": 22,
   "metadata": {
    "colab": {
     "base_uri": "https://localhost:8080/"
    },
    "id": "PlkZvYNuIbKO",
    "outputId": "884a66f2-6557-48ff-bf11-02e5f9aa0c79"
   },
   "outputs": [
    {
     "name": "stdout",
     "output_type": "stream",
     "text": [
      "[0, 1, 4, 9, 16, 25, 36, 49, 64, 81]\n"
     ]
    }
   ],
   "source": [
    "# For every item in original_list, name the item x and put x**2 into the new list.\n",
    "original_list = range(10)\n",
    "new_list = [x**2 for x in original_list]\n",
    "print(new_list)"
   ]
  },
  {
   "cell_type": "code",
   "execution_count": 23,
   "metadata": {
    "colab": {
     "base_uri": "https://localhost:8080/"
    },
    "id": "BzxfUeFhIVQK",
    "outputId": "79310600-8dd1-4e36-fb1b-d24b52596fb7"
   },
   "outputs": [
    {
     "name": "stdout",
     "output_type": "stream",
     "text": [
      "[0, 4, 8, 12, 16]\n"
     ]
    }
   ],
   "source": [
    "# For every item in original_list, if it is divisible by 3, name the item x and put x into the new list.\n",
    "new_list = [x for x in range(20) if x % 4 == 0]\n",
    "print(new_list)"
   ]
  },
  {
   "cell_type": "markdown",
   "metadata": {
    "id": "pA9zTV1xiT_j"
   },
   "source": [
    "You _can_ do a lot in one line with list comprehension but that doesn't mean you _should_"
   ]
  },
  {
   "cell_type": "code",
   "execution_count": 24,
   "metadata": {
    "colab": {
     "base_uri": "https://localhost:8080/",
     "height": 34
    },
    "id": "9b_hYdiFhi8h",
    "outputId": "d6cfce59-d359-4e68-aba1-b98573997ba6"
   },
   "outputs": [
    {
     "name": "stdout",
     "output_type": "stream",
     "text": [
      "[-5, -50, 91125, 8000]\n"
     ]
    }
   ],
   "source": [
    "original_list = [12, -5, 7, 2, 9, 13, -50, 45, -2, 20]\n",
    "new_list = [i**3 if i > 0 else i for i in original_list if i % 5 == 0]\n",
    "print(new_list)"
   ]
  },
  {
   "cell_type": "markdown",
   "metadata": {
    "id": "RTJR7KIWm9tu"
   },
   "source": [
    "### Nested and double list comprehension (aka list incomprehension)"
   ]
  },
  {
   "cell_type": "code",
   "execution_count": 25,
   "metadata": {
    "colab": {
     "base_uri": "https://localhost:8080/"
    },
    "id": "V9KSKpmvih-E",
    "outputId": "ef69ea97-8947-4f85-8ebd-9df7bc69655e"
   },
   "outputs": [
    {
     "name": "stdout",
     "output_type": "stream",
     "text": [
      "[[1, 3, 5, 7], [2, 4, 6, 8]]\n"
     ]
    }
   ],
   "source": [
    "# Nested list comprehension\n",
    "matrix = [[1, 2], [3,4], [5,6], [7,8]]\n",
    "transpose = [[row[i] for row in matrix] for i in range(2)]\n",
    "print (transpose)"
   ]
  },
  {
   "cell_type": "code",
   "execution_count": 26,
   "metadata": {
    "colab": {
     "base_uri": "https://localhost:8080/",
     "height": 34
    },
    "id": "OkHlCMMmlWpa",
    "outputId": "4a304e00-5bef-4f81-d4e4-006053b86520"
   },
   "outputs": [
    {
     "data": {
      "text/plain": [
       "[(1, 7), (1, 8), (1, 9), (2, 7), (2, 8), (2, 9), (3, 7), (3, 8), (3, 9)]"
      ]
     },
     "execution_count": 26,
     "metadata": {},
     "output_type": "execute_result"
    }
   ],
   "source": [
    "# Double list comprehension\n",
    "a = [1,2,3]\n",
    "b = [7,8,9]\n",
    "[(x,y) for x in a for y in b]\n"
   ]
  },
  {
   "cell_type": "code",
   "execution_count": 27,
   "metadata": {
    "colab": {
     "base_uri": "https://localhost:8080/",
     "height": 68
    },
    "id": "TY1JewFkjnRP",
    "outputId": "9541130e-7c27-4775-8521-faed6e5fcd1d"
   },
   "outputs": [
    {
     "name": "stdout",
     "output_type": "stream",
     "text": [
      "Using list comprehension: [1, 2, 3, 4, 5, 6, 7, 8]\n",
      "Using nested for loops: [1, 2, 3, 4, 5, 6, 7, 8]\n",
      "Using the sum() hack: [1, 2, 3, 4, 5, 6, 7, 8]\n"
     ]
    }
   ],
   "source": [
    "# Flatten a list of lists \n",
    "# eg [[1, 2], [3,4], [5,6], [7,8]] -> [1, 2, 3, 4, 5, 6, 7, 8]\n",
    "\n",
    "matrix = [[1, 2], [3,4], [5,6], [7,8]]\n",
    "new_list = [y for x in matrix for y in x]\n",
    "print(f'Using list comprehension: {new_list}')\n",
    "\n",
    "# There are other ways of achieving the same thing\n",
    "new_list = []\n",
    "for row in matrix:\n",
    "  for item in row:\n",
    "    new_list.append(item)\n",
    "print(f'Using nested for loops: {new_list}')\n",
    "\n",
    "# This achieves the same thing. How?!\n",
    "print(f'Using the sum() hack: {sum(matrix, [])}')\n"
   ]
  },
  {
   "cell_type": "markdown",
   "metadata": {
    "id": "kkrodLSeN9L3"
   },
   "source": [
    "# Dictionaries\n",
    "\n",
    "- [w3schools](https://www.w3schools.com/python/python_dictionaries.asp)"
   ]
  },
  {
   "cell_type": "code",
   "execution_count": null,
   "metadata": {
    "id": "kU5hrkMA7R17"
   },
   "outputs": [],
   "source": []
  },
  {
   "cell_type": "code",
   "execution_count": 28,
   "metadata": {
    "colab": {
     "base_uri": "https://localhost:8080/"
    },
    "id": "iqnLdYifb_wA",
    "outputId": "8b8b741d-3876-419c-e055-ae725631db6c"
   },
   "outputs": [
    {
     "name": "stdout",
     "output_type": "stream",
     "text": [
      "my_value\n"
     ]
    }
   ],
   "source": [
    "d = {0: 'Hello', 1: 'Bob', 4: 'Howdy', 'my_key': 'my_value'}\n",
    "print(d['my_key'])\n"
   ]
  },
  {
   "cell_type": "code",
   "execution_count": 29,
   "metadata": {
    "colab": {
     "base_uri": "https://localhost:8080/"
    },
    "id": "774hRd9URW0A",
    "outputId": "75de55ba-32b7-4f7c-dbae-b2ea9c4ce26e"
   },
   "outputs": [
    {
     "name": "stdout",
     "output_type": "stream",
     "text": [
      "{'Nick': 322, 'Joe': 254}\n",
      "\n",
      "Items\n",
      "-----\n",
      "Nick 322\n",
      "Joe 254\n",
      "\n",
      "Keys:\n",
      "Nick\n",
      "Joe\n",
      "\n",
      "Values:\n",
      "322\n",
      "254\n",
      "Nick has a score\n",
      "{'Joe': 254} 322\n",
      "{'Joe': 254}\n"
     ]
    }
   ],
   "source": [
    "d = {}\n",
    "d['Nick'] = 322\n",
    "d['Joe'] = 254\n",
    "print(d)\n",
    "# print(d['Nick'])\n",
    "print(\"\\nItems\\n-----\")\n",
    "for key, value in d.items():\n",
    "  print(key, value)\n",
    "\n",
    "\n",
    "print(\"\\nKeys:\")\n",
    "for name in d.keys():\n",
    "  print(name)\n",
    "\n",
    "\n",
    "print(\"\\nValues:\")\n",
    "for num in d.values():\n",
    "  print(num)\n",
    "\n",
    "if 'Nick' in d.keys():\n",
    "  print('Nick has a score')\n",
    "\n",
    "value = d.pop('Nick')\n",
    "#del(d['ryan'])\n",
    "print(d, value)\n",
    "print(d)"
   ]
  },
  {
   "cell_type": "code",
   "execution_count": 30,
   "metadata": {
    "colab": {
     "base_uri": "https://localhost:8080/"
    },
    "id": "HgHMZHF-7TEA",
    "outputId": "8e7e28b8-9066-4e06-8302-82393cd82a76"
   },
   "outputs": [
    {
     "name": "stdout",
     "output_type": "stream",
     "text": [
      "13\n",
      "a 1\n",
      "c 2\n",
      "d 4\n",
      "f 13\n",
      "e 30\n"
     ]
    }
   ],
   "source": [
    "a1 = {'a':1, 'f':13, 'd':4, 'c':2, 'e':30}\n",
    "print(a1.get('f'))\n",
    "a2 = sorted(a1, key=a1.get)\n",
    "for key in a2:\n",
    "  print(key, a1[key])\n",
    "#a1_sorted_keys = sorted(a1, key=a1.get, reverse=True)\n",
    "#for r in a1_sorted_keys:\n",
    "#    print(r, a1[r])"
   ]
  },
  {
   "cell_type": "markdown",
   "metadata": {
    "id": "_38Isqao4wAu"
   },
   "source": [
    "# Strings\n",
    "- [Craig'n'Dave](https://student.craigndave.org/videos/aqa-alevel-slr01-introduction-to-programming-part-5-string-handling)\n",
    "- [w3schools](https://www.w3schools.com/python/python_strings.asp)"
   ]
  },
  {
   "cell_type": "markdown",
   "metadata": {
    "id": "Cs_6YMTLBqFM"
   },
   "source": [
    "## f-strings\n",
    "\n",
    "- Only for Python versions 3.6 & above (this *will* work for the November test)\n",
    "- [RealPython](https://realpython.com/python-f-strings/#f-strings-a-new-and-improved-way-to-format-strings-in-python)"
   ]
  },
  {
   "cell_type": "code",
   "execution_count": 31,
   "metadata": {
    "colab": {
     "base_uri": "https://localhost:8080/"
    },
    "id": "FVb7VkUI7Dh0",
    "outputId": "9b822b3e-681d-45ea-f79b-f17058067f3a"
   },
   "outputs": [
    {
     "name": "stdout",
     "output_type": "stream",
     "text": [
      "Hello Bob 74\n",
      "Hello_Bob_74\n"
     ]
    }
   ],
   "source": [
    "name = \"Bob\"\n",
    "age = 74\n",
    "print('Hello', name, age)\n",
    "print('Hello_'+ name + '_'+ str(age))"
   ]
  },
  {
   "cell_type": "code",
   "execution_count": 32,
   "metadata": {
    "colab": {
     "base_uri": "https://localhost:8080/"
    },
    "id": "g82Nd9xiBfOB",
    "outputId": "82712df5-8700-419a-e659-90ec9e151c00"
   },
   "outputs": [
    {
     "name": "stdout",
     "output_type": "stream",
     "text": [
      "Hello, Bob. You are nearly 75.\n"
     ]
    }
   ],
   "source": [
    "# a nice way to insert the contents of variables, or the results of any string manipulation, into a string\n",
    "# it's called that because you put an f before the start of the string!\n",
    "\n",
    "name = \"Bob\"\n",
    "age = 74\n",
    "print(f\"Hello, {name}. You are nearly {age+1}.\")"
   ]
  },
  {
   "cell_type": "code",
   "execution_count": 33,
   "metadata": {
    "colab": {
     "base_uri": "https://localhost:8080/"
    },
    "id": "KHPvMKyhIdgG",
    "outputId": "40783ec6-9300-4e8d-ed6c-aa321966f759"
   },
   "outputs": [
    {
     "name": "stdout",
     "output_type": "stream",
     "text": [
      "The cost is £11.11\n",
      "The cost is £3.70\n",
      "The cost is £1.23\n",
      "The cost is £0.41\n",
      "The cost is £0.14\n",
      "04\n"
     ]
    }
   ],
   "source": [
    "cost = 100 / 3\n",
    "# print(f'Total cost: £{cost:.3f}')\n",
    "\n",
    "\n",
    "for i in range(5):\n",
    "  cost = cost /3\n",
    "  print(f'The cost is £{cost:.2f}')\n",
    "\n",
    "print(f'{4:02.0f}')"
   ]
  },
  {
   "cell_type": "markdown",
   "metadata": {
    "id": "pMswHVpjof59"
   },
   "source": [
    "## String Manipulation\n",
    "You can treat strings like lists and access individual characters or substrings using string splicing.\n",
    "\n",
    "There are also a number of functions that you can perform on strings. The following are all methods of the `string` class:\n",
    "\n",
    "* `string.find(sub_string)`\n",
    "* `string.count(sub_string)`\n",
    "* `string.split(string_to_split_at)`\n",
    "* `string.join(list_to_join)`\n",
    "* `string.replace(string_to_find, string_to_replace)`"
   ]
  },
  {
   "cell_type": "code",
   "execution_count": 34,
   "metadata": {
    "colab": {
     "base_uri": "https://localhost:8080/",
     "height": 136
    },
    "id": "mmKms6BfoiwW",
    "outputId": "e73974b0-3402-4ccb-d368-4c3775193397"
   },
   "outputs": [
    {
     "name": "stdout",
     "output_type": "stream",
     "text": [
      "It was the best of times it was the worst of times.\n",
      ".semit fo tsrow eht saw ti semit fo tseb eht saw tI\n",
      "The word 'best' first occurs at position 11\n",
      "The word 'times' occurs 2 times.\n",
      "['It', 'was', 'the', 'best', 'of', 'times', 'it', 'was', 'the', 'worst', 'of', 'times.']\n",
      "It*-*was*-*the*-*best*-*of*-*times*-*it*-*was*-*the*-*worst*-*of*-*times.\n",
      "It was the best of times it was the worst of times.\n"
     ]
    }
   ],
   "source": [
    "test_string = 'It was the best of times it was the worst of times.'\n",
    "\n",
    "print(test_string)\n",
    "# Reverse a string by using list splicing\n",
    "print(test_string[::-1])\n",
    "\n",
    "# Find the first occurrence of a substring\n",
    "print(f\"The word 'best' first occurs at position {test_string.find('best')}\")\n",
    "\n",
    "# Count the occurrences of a substring\n",
    "print(f\"The word 'times' occurs {test_string.count('times')} times.\")\n",
    "\n",
    "# Split a string into separate words\n",
    "word_list = test_string.split(' ')\n",
    "print(word_list)\n",
    "\n",
    "# Join a list of strings together with a particular character\n",
    "joined_string = '*-*'.join(word_list)\n",
    "print(joined_string)\n",
    "\n",
    "# replace a substring with another substring\n",
    "print(joined_string.replace('*-*', ' '))"
   ]
  },
  {
   "cell_type": "markdown",
   "metadata": {
    "id": "yUwF26ZMZgYu"
   },
   "source": [
    "# Classes & object-orientation\n",
    "\n",
    "- [w3schools](https://www.w3schools.com/python/python_classes.asp)"
   ]
  },
  {
   "cell_type": "markdown",
   "metadata": {
    "id": "keJBnBVNKYfP"
   },
   "source": [
    "# Object Orientated Programming\n",
    "See [Google Slides](https://docs.google.com/presentation/d/1RYPNlH7DPejtm1vUa3USnOm81dKUnmVSzFpnyNCeq5E/edit?usp=sharing)\n",
    "\n",
    "[w3schools](https://www.w3schools.com/python/python_classes.asp)\n",
    "\n",
    "A comparison of Procedural and Object Orientated Programming: https://www.geeksforgeeks.org/differences-between-procedural-and-object-oriented-programming/"
   ]
  },
  {
   "cell_type": "code",
   "execution_count": 35,
   "metadata": {
    "colab": {
     "base_uri": "https://localhost:8080/"
    },
    "id": "6uPexz9kK1F5",
    "outputId": "92c271ae-f7c8-4b27-cdda-f2ef69510b62"
   },
   "outputs": [
    {
     "name": "stdout",
     "output_type": "stream",
     "text": [
      "Fish is of size 1\n",
      "Fish fed\n",
      "Fish fed\n",
      "Fish fed\n",
      "Fish fed\n",
      "It is now a big FISH\n"
     ]
    }
   ],
   "source": [
    "# A procedural program\n",
    "\n",
    "def feed(state, size):\n",
    "  size += 1\n",
    "  print(\"Fish fed\")\n",
    "  if size == 5:\n",
    "    state = \"FISH\"\n",
    "  return state, size\n",
    "\n",
    "\n",
    "thisFishState = \"Fish\"\n",
    "thisFishSize = 1\n",
    "\n",
    "print(thisFishState, \"is of size\", thisFishSize)\n",
    "\n",
    "while thisFishState != \"FISH\":\n",
    "  thisFishState, thisFishSize = feed(thisFishState, thisFishSize)\n",
    "\n",
    "print(\"It is now a big\", thisFishState)\n"
   ]
  },
  {
   "cell_type": "code",
   "execution_count": 36,
   "metadata": {
    "colab": {
     "base_uri": "https://localhost:8080/"
    },
    "id": "LzG2UgQlLUve",
    "outputId": "9d20cd23-5522-476f-e4eb-2dc3b805f0aa"
   },
   "outputs": [
    {
     "name": "stdout",
     "output_type": "stream",
     "text": [
      "Fish\n",
      "Fish is of size 1\n",
      "Fish fed\n",
      "Fish fed\n",
      "Fish fed\n",
      "Fish fed\n",
      "It is now a big FISH\n",
      "It's an animal\n"
     ]
    }
   ],
   "source": [
    "# An OOP program\n",
    "\n",
    "class Animal:\n",
    "  def __init__(self, state, size):\n",
    "    self._state = state\n",
    "    self._size = size\n",
    "\n",
    "  def feed(self):\n",
    "    self._size += 1\n",
    "    print(\"Fish fed\")\n",
    "    if self._size == 5:\n",
    "      self._state = \"FISH\"\n",
    "\n",
    "  def get_state(self):\n",
    "    return self._state\n",
    "\n",
    "  def get_size(self):\n",
    "    return self._size\n",
    "    \n",
    "thisFish = Animal(\"Fish\", 1)\n",
    "print(thisFish._state)\n",
    "\n",
    "print(thisFish.get_state(), \"is of size\", thisFish.get_size())\n",
    "\n",
    "while thisFish.get_state() != \"FISH\":\n",
    "  thisFish.feed()\n",
    "\n",
    "print(\"It is now a big\", thisFish.get_state())\n",
    "if type(thisFish) is Animal:\n",
    "  print(\"It's an animal\")"
   ]
  },
  {
   "cell_type": "code",
   "execution_count": 37,
   "metadata": {
    "colab": {
     "base_uri": "https://localhost:8080/"
    },
    "id": "c1GRpyCKNxEY",
    "outputId": "6b7846c9-d5c2-4cd6-fc24-b4832558f0d1"
   },
   "outputs": [
    {
     "name": "stdout",
     "output_type": "stream",
     "text": [
      "[2, 2, 3, 5, 5, 6, 7, 8]\n"
     ]
    }
   ],
   "source": [
    "my_list = [5,2,5,7,3,2,6,8]\n",
    "sorted_list = sorted(my_list)\n",
    "print(sorted_list)"
   ]
  },
  {
   "cell_type": "code",
   "execution_count": 38,
   "metadata": {
    "colab": {
     "base_uri": "https://localhost:8080/"
    },
    "id": "ooweNrEdN0C-",
    "outputId": "8bef4575-0d70-4be3-d246-ebb31da5344e"
   },
   "outputs": [
    {
     "name": "stdout",
     "output_type": "stream",
     "text": [
      "[2, 2, 3, 5, 5, 6, 7, 8]\n"
     ]
    }
   ],
   "source": [
    "my_list = [5,2,5,7,3,2,6,8]\n",
    "my_list.sort()\n",
    "print(my_list)"
   ]
  },
  {
   "cell_type": "code",
   "execution_count": 39,
   "metadata": {
    "colab": {
     "base_uri": "https://localhost:8080/"
    },
    "id": "ZCX3Mz5tLxEN",
    "outputId": "61fd4637-6785-4d9e-9a52-3ea3f1fcae6f"
   },
   "outputs": [
    {
     "name": "stdout",
     "output_type": "stream",
     "text": [
      "Hello my name is John\n",
      "A person named John\n"
     ]
    }
   ],
   "source": [
    "class Person:\n",
    "  def __init__(self, name, age):\n",
    "    self.name = name\n",
    "    self.age = age\n",
    "\n",
    "  def myfunc(self):\n",
    "    print(\"Hello my name is \" + self.name)\n",
    "\n",
    "  def __str__(self):\n",
    "    return f'A person named {self.name}'\n",
    "\n",
    "p1 = Person(\"John\", 36)\n",
    "p1.myfunc()\n",
    "print(p1)"
   ]
  },
  {
   "cell_type": "markdown",
   "metadata": {
    "id": "zdukFKaRm7em"
   },
   "source": [
    "## docstrings\n",
    "\n",
    "- Special comments, signified by triple speech marks, which go in the first line inside any class/method/function to explain what happens.\n",
    "- Produce a really nice, neat printout when `help(class)` or `help(function)` is executed."
   ]
  },
  {
   "cell_type": "markdown",
   "metadata": {
    "id": "XEIiMJcq8OH_"
   },
   "source": [
    "### Public, Private and Protected"
   ]
  },
  {
   "cell_type": "code",
   "execution_count": 40,
   "metadata": {
    "colab": {
     "base_uri": "https://localhost:8080/"
    },
    "id": "27JCmPPH8M60",
    "outputId": "26945842-cca3-4976-b8f5-7f7effdb1a88"
   },
   "outputs": [
    {
     "name": "stdout",
     "output_type": "stream",
     "text": [
      "Hello my name is John\n",
      "A person named John\n",
      "Sarah\n",
      "36\n",
      "Gertrude\n"
     ]
    }
   ],
   "source": [
    "class Person:\n",
    "  def __init__(self, name, age, mothers_name):\n",
    "    self.name = name        # Public member variable\n",
    "    self._age = age         # Protected member variable\n",
    "    self.__mothers_name = mothers_name  # Private variable\n",
    "\n",
    "  def myfunc(self):\n",
    "    print(\"Hello my name is \" + self.name)\n",
    "\n",
    "  def get_age(self):\n",
    "    return self._age\n",
    "\n",
    "  def get_mothers_name(self):\n",
    "    return self.__mothers_name\n",
    "\n",
    "  def __str__(self):\n",
    "    return f'A person named {self.name}'\n",
    "\n",
    "p1 = Person(\"John\", 36, \"Gertrude\")\n",
    "p1.myfunc()\n",
    "print(p1)\n",
    "p1.name = 'Sarah'\n",
    "print(p1.name)    # Fine\n",
    "print(p1._age)    # Illegal!!!! Mustn't access protected variables\n",
    "print(p1.get_mothers_name())"
   ]
  },
  {
   "cell_type": "code",
   "execution_count": 41,
   "metadata": {
    "id": "ms_kpCRxnsbA"
   },
   "outputs": [
    {
     "name": "stdout",
     "output_type": "stream",
     "text": [
      "test class instance created\n",
      "Help on class TestClass in module __main__:\n",
      "\n",
      "class TestClass(builtins.object)\n",
      " |  This is a test class to demonstrate basic object-oriented functionality, written by JTT.\n",
      " |\n",
      " |  Methods defined here:\n",
      " |\n",
      " |  ReportAuthor(self)\n",
      " |      This method prints the author of this class.\n",
      " |\n",
      " |  __init__(self)\n",
      " |      The constructor for this class prints a confirmation statement, and stored the author's ID as an attribute.\n",
      " |\n",
      " |  ----------------------------------------------------------------------\n",
      " |  Data descriptors defined here:\n",
      " |\n",
      " |  __dict__\n",
      " |      dictionary for instance variables\n",
      " |\n",
      " |  __weakref__\n",
      " |      list of weak references to the object\n",
      "\n"
     ]
    }
   ],
   "source": [
    "class TestClass:\n",
    "\t\"\"\"This is a test class to demonstrate basic object-oriented functionality, written by JTT.\"\"\"\n",
    "\t\n",
    "\tdef __init__(self):\n",
    "\t\t\"\"\"The constructor for this class prints a confirmation statement, and stored the author's ID as an attribute.\"\"\"\n",
    "\t\tprint(\"test class instance created\")\n",
    "\t\tself.author = \"JTT\"\n",
    "\t\n",
    "\tdef ReportAuthor(self):\n",
    "\t\t\"\"\"This method prints the author of this class.\"\"\"\n",
    "\t\tprint(\"The author of this class is\"+self.author)\n",
    "\n",
    "# create an instance (this should trigger the constructor method)\n",
    "my_instance_of_test_class = TestClass()\n",
    "\n",
    "# print out the docstrings for this class and its attributes & methods\n",
    "help(TestClass)\n"
   ]
  },
  {
   "cell_type": "markdown",
   "metadata": {
    "id": "ayrJW3vxl2nC"
   },
   "source": [
    "## Magic methods\n"
   ]
  },
  {
   "cell_type": "markdown",
   "metadata": {
    "id": "hxwbCJ_fyJ3s"
   },
   "source": [
    "## Operator Overloading\n",
    "\n",
    "`__add__` is a magic function which overrides the `+` operator.\n",
    "\n",
    "`x.__add__(y)`\n",
    "is the same as \n",
    "`x + y`\n",
    "\n",
    "See a complete list of _magic functions_ to overload operators here:\n",
    "https://www.python-course.eu/python3_magic_methods.php\n"
   ]
  },
  {
   "cell_type": "code",
   "execution_count": 42,
   "metadata": {
    "colab": {
     "base_uri": "https://localhost:8080/"
    },
    "id": "7sFetCPNy1Zt",
    "outputId": "b87d55d1-7ad9-4107-dbfb-7c30706f481b"
   },
   "outputs": [
    {
     "name": "stdout",
     "output_type": "stream",
     "text": [
      "The value of x + y is 7\n"
     ]
    }
   ],
   "source": [
    "class Overloaded:\n",
    "    def __init__(self, val):\n",
    "        self.value = val\n",
    "        \n",
    "    def __add__(self, other):\n",
    "       new_object = Overloaded(self.value + other.value)\n",
    "       return new_object\n",
    "\n",
    "x = Overloaded(3)\n",
    "y = Overloaded(4)\n",
    "\n",
    "z = x + y\n",
    "print(f'The value of x + y is {z.value}')\n",
    "\n",
    "# w = x.__add__(y)\n",
    "# print(f'The value of x._add__(y) is {w.value}')\n"
   ]
  },
  {
   "cell_type": "markdown",
   "metadata": {
    "id": "XU7BhG3UUSX1"
   },
   "source": [
    "`__iadd__()` and related _inplace operators_ don't work quite as you might expect. You need to return an object that then gets assigned to the original variable automatically _behind the scenes_. In most cases it will probably look identical to  `__add__()`"
   ]
  },
  {
   "cell_type": "code",
   "execution_count": 43,
   "metadata": {
    "colab": {
     "base_uri": "https://localhost:8080/"
    },
    "id": "5ArWW2KNUysw",
    "outputId": "42dae70a-532a-4e77-b50b-f4efecedf020"
   },
   "outputs": [
    {
     "name": "stdout",
     "output_type": "stream",
     "text": [
      "The value of x is 3\n",
      "The value of x is now 7\n"
     ]
    }
   ],
   "source": [
    "class Overloaded:\n",
    "    def __init__(self, val):\n",
    "        self.value = val\n",
    "        \n",
    "    def __iadd__(self, other):\n",
    "        self.value = self.value + other.value\n",
    "        return self\n",
    "\n",
    "x = Overloaded(3)\n",
    "y = Overloaded(4)\n",
    "\n",
    "print(f'The value of x is {x.value}')\n",
    "x += y\n",
    "print(f'The value of x is now {x.value}')\n",
    "\n"
   ]
  },
  {
   "cell_type": "markdown",
   "metadata": {
    "id": "OE-JJsSZHKC5"
   },
   "source": [
    "## Inheritance\n",
    "Inheritance in OOP allows you to create a new class that has the same propeties (attributes and methods) as an existing class but adds addtional ones.\n",
    "\n",
    "You create a new _derived class_, _subclass_ or _child class_ by putting the _parent class_ in brackets after the class definition:\n",
    "\n",
    "`class ChildClass(ParentClass):`\n",
    "\n",
    "eg:\n",
    "\n",
    "`class Dog(Animal):`"
   ]
  },
  {
   "cell_type": "code",
   "execution_count": 44,
   "metadata": {
    "id": "b7ShJKu2IL1U"
   },
   "outputs": [],
   "source": [
    "class Animal:\n",
    "  def __init__(self, size, colour, food):\n",
    "    self._fav_food = food\n",
    "    self._size = size\n",
    "    self._colour = colour\n",
    "\n",
    "  def feed(self):\n",
    "    print(f\"Yum, I love {self._fav_food}\")\n",
    "\n",
    "  def speak(self):\n",
    "    print(\"Hello, I am a generic animal.\")\n",
    "\n",
    "class Mouse(Animal):\n",
    "  def __init__(self, size, colour):\n",
    "    Animal.__init__(self, size, colour, \"cheese\")\n",
    "\n",
    "  def speak(self):\n",
    "    print(\"Squeak!\")\n",
    "  \n"
   ]
  },
  {
   "cell_type": "code",
   "execution_count": 45,
   "metadata": {
    "id": "KRtx_cLBLXM_"
   },
   "outputs": [
    {
     "name": "stdout",
     "output_type": "stream",
     "text": [
      "Generic Animal:\n",
      "Hello, I am a generic animal.\n",
      "Yum, I love nachos\n"
     ]
    }
   ],
   "source": [
    "print(\"Generic Animal:\")\n",
    "bob = Animal(4, 'brown', 'nachos')\n",
    "bob.speak()\n",
    "bob.feed()"
   ]
  },
  {
   "cell_type": "code",
   "execution_count": 46,
   "metadata": {
    "colab": {
     "base_uri": "https://localhost:8080/"
    },
    "id": "aDt0EctpLbOH",
    "outputId": "72c015e7-95c9-4969-a7b5-68fcde1157d5"
   },
   "outputs": [
    {
     "name": "stdout",
     "output_type": "stream",
     "text": [
      "Mouse:\n",
      "Squeak!\n",
      "Yum, I love cheese\n"
     ]
    }
   ],
   "source": [
    "print(\"Mouse:\")\n",
    "mickey = Mouse(1, 'black')\n",
    "mickey.speak()\n",
    "mickey.feed()"
   ]
  },
  {
   "cell_type": "markdown",
   "metadata": {
    "id": "kmwzjCPHLkWr"
   },
   "source": [
    "Once you have a new inherited class you can find out what type it is using either `type()` or `isinstance()`. \n",
    "\n",
    "Notice how the two functions behave differently? Is mickey a mouse or an animal?"
   ]
  },
  {
   "cell_type": "markdown",
   "metadata": {
    "id": "6gTZFV_ZMWcx"
   },
   "source": [
    "### type()\n",
    "`type(object)` returns a string that describes the exact type of the object. You can use it in an comparison to test against a particular class"
   ]
  },
  {
   "cell_type": "code",
   "execution_count": 47,
   "metadata": {
    "colab": {
     "base_uri": "https://localhost:8080/"
    },
    "id": "AovA1zUqMzrn",
    "outputId": "f01549a6-c475-4b9d-b82f-1bec782c2327"
   },
   "outputs": [
    {
     "name": "stdout",
     "output_type": "stream",
     "text": [
      "<class 'int'>\n",
      "x is an integer\n"
     ]
    }
   ],
   "source": [
    "x = 3\n",
    "print(type(x))\n",
    "if type(x) is int:\n",
    "  print(\"x is an integer\")\n",
    "else:\n",
    "  print(\"x is not an integer\")"
   ]
  },
  {
   "cell_type": "markdown",
   "metadata": {
    "id": "7VgcWUo2NabP"
   },
   "source": [
    "### isinstance()\n",
    "Usually is is much better to use `isinstance()` instead:\n",
    "`isinstance(object, type)` returns True if the object is the type specified **or** if it is a class that derives from that one.\n"
   ]
  },
  {
   "cell_type": "code",
   "execution_count": 48,
   "metadata": {
    "colab": {
     "base_uri": "https://localhost:8080/",
     "height": 218
    },
    "id": "C7TK_QU3Kr_P",
    "outputId": "1d7d62ef-faaf-43ac-9049-5d672e968c27"
   },
   "outputs": [
    {
     "name": "stdout",
     "output_type": "stream",
     "text": [
      "<class '__main__.Animal'>\n",
      "True\n",
      "bob is an animal?: True\n",
      "bob is a mouse?: False\n"
     ]
    }
   ],
   "source": [
    "print(type(bob))\n",
    "print(type(bob) is Animal)\n",
    "print(f'bob is an animal?: {isinstance(bob, Animal)}')\n",
    "print(f'bob is a mouse?: {isinstance(bob, Mouse)}')"
   ]
  },
  {
   "cell_type": "code",
   "execution_count": 49,
   "metadata": {
    "colab": {
     "base_uri": "https://localhost:8080/",
     "height": 215
    },
    "id": "HoT9eD5hLP75",
    "outputId": "c46f5300-1a0e-47eb-fead-e7783ba8aacd"
   },
   "outputs": [
    {
     "name": "stdout",
     "output_type": "stream",
     "text": [
      "<class '__main__.Mouse'>\n",
      "False\n",
      "mickey is an animal?: True\n",
      "mickey is a mouse?: True\n"
     ]
    }
   ],
   "source": [
    "print(type(mickey))\n",
    "print(type(mickey) == Animal)\n",
    "print(f'mickey is an animal?: {isinstance(mickey, Animal)}')\n",
    "print(f'mickey is a mouse?: {isinstance(mickey, Mouse)}')"
   ]
  },
  {
   "cell_type": "markdown",
   "metadata": {
    "id": "choZtv7CcxZK"
   },
   "source": [
    "# Bitwise Logic\n",
    "Boolean logic (and, or, not) usually operates on boolean values ie True or False.\n",
    "\n",
    "It is possible to perform boolean logic on individual bits on an integer. Imagine the binary representation of a number. Then apply the logic operator to each bit individually. This leads to some slightly odd looking resutls if you view the numbers in denary (base 10)."
   ]
  },
  {
   "cell_type": "code",
   "execution_count": 50,
   "metadata": {
    "colab": {
     "base_uri": "https://localhost:8080/",
     "height": 357
    },
    "id": "OfRBsUdddh-z",
    "outputId": "54699322-e6e7-4550-b554-098ef604dbf6"
   },
   "outputs": [
    {
     "name": "stdout",
     "output_type": "stream",
     "text": [
      "x = 108\n",
      "x in binary is 01101100 and in hex it is 6C\n",
      "\n",
      "x     = 1100 -> 12\n",
      "y     = 1010 -> 10\n",
      "x | y = 1110 -> 14\n",
      "\n",
      "x     = 1100 -> 12\n",
      "y     = 1010 -> 10\n",
      "x & y = 1000 -> 8\n",
      "\n",
      "x     = 1100 -> 12\n",
      "y     = 1010 -> 10\n",
      "x ^ y = 0110 -> 6\n",
      "\n",
      "x           = 1100 -> 12\n",
      "~x          = -1101 -> -13 ** Uh oh, two's complement stuff going on here... **\n",
      "\n",
      "~x & 1111 = 0011 -> 3\n",
      "\n"
     ]
    }
   ],
   "source": [
    "x = 0b01101100    # Enter binary numbers by prefixing 0b\n",
    "print(f'x = {x}')\n",
    "print(f'x in binary is {x:08b} and in hex it is {x:X}\\n')\n",
    "\n",
    "x = 0b1100\n",
    "y = 0b1010\n",
    "print(f'x     = {x:b} -> {x}')\n",
    "print(f'y     = {y:b} -> {y}')\n",
    "print(f'x | y = {x|y:04b} -> {x|y}\\n')\n",
    "\n",
    "print(f'x     = {x:b} -> {x}')\n",
    "print(f'y     = {y:b} -> {y}')\n",
    "print(f'x & y = {x&y:04b} -> {x&y}\\n')\n",
    "\n",
    "print(f'x     = {x:b} -> {x}')\n",
    "print(f'y     = {y:b} -> {y}')\n",
    "print(f'x ^ y = {x^y:04b} -> {x^y}\\n')\n",
    "\n",
    "print(f'x           = {x:b} -> {x}')\n",
    "print(f'~x          = {~x:04b} -> {~x} ** Uh oh, two\\'s complement stuff going on here... **\\n')\n",
    "print(f'~x & 1111 = {~x & 0b1111:04b} -> {~x & 0b1111}\\n')"
   ]
  },
  {
   "cell_type": "markdown",
   "metadata": {
    "id": "8OYTj4Odtyhw"
   },
   "source": [
    "# Exception Handling"
   ]
  },
  {
   "cell_type": "code",
   "execution_count": 51,
   "metadata": {
    "colab": {
     "base_uri": "https://localhost:8080/",
     "height": 183
    },
    "id": "Jom-Sg9VuFMo",
    "outputId": "5e75ebe9-22d4-405f-e776-e1117d081809"
   },
   "outputs": [
    {
     "ename": "ZeroDivisionError",
     "evalue": "division by zero",
     "output_type": "error",
     "traceback": [
      "\u001b[31m---------------------------------------------------------------------------\u001b[39m",
      "\u001b[31mZeroDivisionError\u001b[39m                         Traceback (most recent call last)",
      "\u001b[36mCell\u001b[39m\u001b[36m \u001b[39m\u001b[32mIn[51]\u001b[39m\u001b[32m, line 2\u001b[39m\n\u001b[32m      1\u001b[39m a = \u001b[32m0\u001b[39m\n\u001b[32m----> \u001b[39m\u001b[32m2\u001b[39m b = \u001b[32;43m10\u001b[39;49m\u001b[43m \u001b[49m\u001b[43m/\u001b[49m\u001b[43m \u001b[49m\u001b[43ma\u001b[49m\n",
      "\u001b[31mZeroDivisionError\u001b[39m: division by zero"
     ]
    }
   ],
   "source": [
    "a = 0\n",
    "b = 10 / a"
   ]
  },
  {
   "cell_type": "code",
   "execution_count": null,
   "metadata": {
    "colab": {
     "base_uri": "https://localhost:8080/"
    },
    "id": "XzdnQ8zQuNfm",
    "outputId": "9f4f2d53-3acf-48a3-c2b9-0192aa5f52d3"
   },
   "outputs": [
    {
     "name": "stdout",
     "output_type": "stream",
     "text": [
      "No, no, no. You tried to divide by zero.\n",
      "1\n"
     ]
    }
   ],
   "source": [
    "a = 0\n",
    "try:\n",
    "  b = 10 / a\n",
    "except ZeroDivisionError:\n",
    "  print (\"No, no, no. You tried to divide by zero.\")\n",
    "  b = 1\n",
    "\n",
    "print(b)"
   ]
  },
  {
   "cell_type": "markdown",
   "metadata": {
    "id": "ZV3d1jDIknCa"
   },
   "source": [
    "There is sometimes cost to using try except."
   ]
  },
  {
   "cell_type": "code",
   "execution_count": null,
   "metadata": {
    "colab": {
     "base_uri": "https://localhost:8080/"
    },
    "id": "2sBIsxONt3oJ",
    "outputId": "c6b8f247-efc5-49ea-9ceb-55275daa1ff7"
   },
   "outputs": [
    {
     "name": "stdout",
     "output_type": "stream",
     "text": [
      "time= 0.0029667890003111097\n",
      "time= 0.00031346699961432023\n"
     ]
    }
   ],
   "source": [
    "import timeit\n",
    "setup=\"a=0\"\n",
    "stmt1 = '''\\\n",
    "try:\n",
    "    b=10/a\n",
    "except ZeroDivisionError:\n",
    "    pass'''\n",
    "\n",
    "stmt2 = '''\\\n",
    "if a!=0:\n",
    "    b=10/a'''\n",
    "\n",
    "print(\"time=\",timeit.timeit(stmt1,setup,number=10000))\n",
    "print(\"time=\",timeit.timeit(stmt2,setup,number=10000))"
   ]
  },
  {
   "cell_type": "markdown",
   "metadata": {
    "id": "O-NfrcxukzFW"
   },
   "source": [
    "You can raise your own excpetions"
   ]
  },
  {
   "cell_type": "code",
   "execution_count": null,
   "metadata": {
    "colab": {
     "base_uri": "https://localhost:8080/",
     "height": 339
    },
    "id": "TIc_0Hn9kmtf",
    "outputId": "8fe1bb53-5783-46a3-d09c-7c3b56bd8abe"
   },
   "outputs": [
    {
     "name": "stdout",
     "output_type": "stream",
     "text": [
      "Mmm, lovely, cheese\n"
     ]
    },
    {
     "ename": "Exception",
     "evalue": "Poor food choice",
     "output_type": "error",
     "traceback": [
      "\u001b[0;31m---------------------------------------------------------------------------\u001b[0m",
      "\u001b[0;31mException\u001b[0m                                 Traceback (most recent call last)",
      "Cell \u001b[0;32mIn[23], line 8\u001b[0m\n\u001b[1;32m      5\u001b[0m     \u001b[38;5;28mprint\u001b[39m (\u001b[38;5;124mf\u001b[39m\u001b[38;5;124m\"\u001b[39m\u001b[38;5;124mMmm, lovely, \u001b[39m\u001b[38;5;132;01m{\u001b[39;00mfood\u001b[38;5;132;01m}\u001b[39;00m\u001b[38;5;124m\"\u001b[39m)\n\u001b[1;32m      7\u001b[0m food_choice(\u001b[38;5;124m\"\u001b[39m\u001b[38;5;124mcheese\u001b[39m\u001b[38;5;124m\"\u001b[39m)\n\u001b[0;32m----> 8\u001b[0m \u001b[43mfood_choice\u001b[49m\u001b[43m(\u001b[49m\u001b[38;5;124;43m\"\u001b[39;49m\u001b[38;5;124;43msardines\u001b[39;49m\u001b[38;5;124;43m\"\u001b[39;49m\u001b[43m)\u001b[49m\n",
      "Cell \u001b[0;32mIn[23], line 3\u001b[0m, in \u001b[0;36mfood_choice\u001b[0;34m(food)\u001b[0m\n\u001b[1;32m      1\u001b[0m \u001b[38;5;28;01mdef\u001b[39;00m \u001b[38;5;21mfood_choice\u001b[39m(food):\n\u001b[1;32m      2\u001b[0m   \u001b[38;5;28;01mif\u001b[39;00m food \u001b[38;5;241m==\u001b[39m \u001b[38;5;124m\"\u001b[39m\u001b[38;5;124msardines\u001b[39m\u001b[38;5;124m\"\u001b[39m:\n\u001b[0;32m----> 3\u001b[0m     \u001b[38;5;28;01mraise\u001b[39;00m \u001b[38;5;167;01mException\u001b[39;00m(\u001b[38;5;124m\"\u001b[39m\u001b[38;5;124mPoor food choice\u001b[39m\u001b[38;5;124m\"\u001b[39m)\n\u001b[1;32m      4\u001b[0m   \u001b[38;5;28;01melse\u001b[39;00m:\n\u001b[1;32m      5\u001b[0m     \u001b[38;5;28mprint\u001b[39m (\u001b[38;5;124mf\u001b[39m\u001b[38;5;124m\"\u001b[39m\u001b[38;5;124mMmm, lovely, \u001b[39m\u001b[38;5;132;01m{\u001b[39;00mfood\u001b[38;5;132;01m}\u001b[39;00m\u001b[38;5;124m\"\u001b[39m)\n",
      "\u001b[0;31mException\u001b[0m: Poor food choice"
     ]
    }
   ],
   "source": [
    "def food_choice(food):\n",
    "  if food == \"sardines\":\n",
    "    raise Exception(\"Poor food choice\")\n",
    "  else:\n",
    "    print (f\"Mmm, lovely, {food}\")\n",
    "\n",
    "food_choice(\"cheese\")\n",
    "food_choice(\"sardines\")"
   ]
  },
  {
   "cell_type": "code",
   "execution_count": null,
   "metadata": {
    "colab": {
     "base_uri": "https://localhost:8080/"
    },
    "id": "Ut2xFKnJ5kf3",
    "outputId": "394e5003-b07f-40eb-a94a-626710589b5f"
   },
   "outputs": [
    {
     "name": "stdout",
     "output_type": "stream",
     "text": [
      "True\n",
      "True\n",
      "True\n"
     ]
    }
   ],
   "source": [
    "n = '3'\n",
    "# n = '-3'\n",
    "# n = '¼'\n",
    "# n = '4²'\n",
    "# n = '三'\n",
    "print(n.isdigit())\n",
    "print(n.isnumeric())\n",
    "print(n.isdecimal())"
   ]
  },
  {
   "cell_type": "code",
   "execution_count": null,
   "metadata": {
    "colab": {
     "base_uri": "https://localhost:8080/"
    },
    "id": "wjKocS3ue8Ow",
    "outputId": "92962ca4-5236-4292-98a3-97195a2018ce"
   },
   "outputs": [],
   "source": [
    "def food_choice(food):\n",
    "  if food == \"sardines\":\n",
    "    raise Exception(\"Poor food choice\")\n",
    "  else:\n",
    "    print (f\"Mmm, lovely, {food}\")\n",
    "\n",
    "food_choice(\"cheese\")\n",
    "try:\n",
    "  food_choice(\"sardines\")\n",
    "except Exception:\n",
    "  print(\"Yuck!\")"
   ]
  },
  {
   "cell_type": "code",
   "execution_count": null,
   "metadata": {
    "colab": {
     "base_uri": "https://localhost:8080/"
    },
    "id": "XyjyuZoOe_02",
    "outputId": "87d8bf4c-bb6a-4c71-c55b-f41a8231eefb"
   },
   "outputs": [],
   "source": [
    "class InvalidFoodError(Exception):\n",
    "  pass\n",
    "\n",
    "\n",
    "def food_choice(food):\n",
    "  if food == \"sardines\":\n",
    "    raise InvalidFoodError(\"Poor food choice: sardines\")\n",
    "  elif food == \"shepherd pie\":\n",
    "    raise InvalidFoodError(\"Bad pie.\")\n",
    "  else:\n",
    "    print (f\"Mmm, lovely, {food}\")\n",
    "\n",
    "#food_choice(\"cheese\")\n",
    "try:\n",
    "  food_choice(\"shepherd pie\")\n",
    "except InvalidFoodError as message:\n",
    "  print(\"Yuck!\", message)"
   ]
  },
  {
   "cell_type": "code",
   "execution_count": null,
   "metadata": {
    "id": "5oK2m_h7wWO_"
   },
   "outputs": [],
   "source": [
    "# file handling \n",
    "  \n",
    "# 1) without using with statement \n",
    "file = open('file_path', 'w') \n",
    "file.write('hello world !') \n",
    "file.close() \n",
    "  \n",
    "# 2) without using with statement \n",
    "file = open('file_path', 'w') \n",
    "try: \n",
    "    file.write('hello world') \n",
    "finally: \n",
    "    file.close() "
   ]
  },
  {
   "cell_type": "code",
   "execution_count": null,
   "metadata": {
    "id": "hUWlYz7uwfHy"
   },
   "outputs": [],
   "source": [
    "# using with statement \n",
    "with open('file_path', 'w') as file: \n",
    "    file.write('hello world !')"
   ]
  },
  {
   "cell_type": "code",
   "execution_count": null,
   "metadata": {
    "id": "tuAqrvCkm3CD"
   },
   "outputs": [],
   "source": [
    "# define Python user-defined exceptions\n",
    "class Error(Exception):\n",
    "   \"\"\"Base class for other exceptions\"\"\"\n",
    "   pass\n",
    "class ValueTooSmallError(Error):\n",
    "   \"\"\"Raised when the input value is too small\"\"\"\n",
    "   pass\n",
    "class ValueTooLargeError(Error):\n",
    "   \"\"\"Raised when the input value is too large\"\"\"\n",
    "   pass\n",
    "# our main program\n",
    "# user guesses a number until he/she gets it right\n",
    "# you need to guess this number\n",
    "number = 10\n",
    "while True:\n",
    "   try:\n",
    "       i_num = int(input(\"Enter a number: \"))\n",
    "       if i_num < number:\n",
    "           raise ValueTooSmallError\n",
    "       elif i_num > number:\n",
    "           raise ValueTooLargeError\n",
    "       break\n",
    "   except ValueTooSmallError:\n",
    "       print(\"This value is too small, try again!\")\n",
    "       print()\n",
    "   except ValueTooLargeError:\n",
    "       print(\"This value is too large, try again!\")\n",
    "       print()\n",
    "print(\"Congratulations! You guessed it correctly.\")"
   ]
  },
  {
   "cell_type": "code",
   "execution_count": null,
   "metadata": {
    "id": "TKjPUbUfnLU5"
   },
   "outputs": [],
   "source": [
    "help (Exception)\n",
    "help (ZeroDivisionError)\n"
   ]
  },
  {
   "cell_type": "markdown",
   "metadata": {
    "id": "gGTPQwT-417o"
   },
   "source": [
    "# Reading and Writing Files"
   ]
  },
  {
   "cell_type": "markdown",
   "metadata": {
    "id": "H3F66Azi5NGo"
   },
   "source": [
    "## Creating a new file\n",
    "The old way: `open()` returns a file object that you can use to interact with the file. You must remember to use `close()` when you have finished."
   ]
  },
  {
   "cell_type": "code",
   "execution_count": null,
   "metadata": {
    "id": "fFNbDoCL48aN"
   },
   "outputs": [],
   "source": [
    "filename = \"files\\test.txt\"\n",
    "file = open(filename, 'w')\n",
    "file.write(\"tested...\")\n",
    "file.close()"
   ]
  },
  {
   "cell_type": "markdown",
   "metadata": {
    "id": "UOmY6B2j5cXT"
   },
   "source": [
    "The newer way: Use `with open(...) as ...` The file will automatically be close at the end of the `with` block, even if an error occurs.\n",
    "\n",
    "\n"
   ]
  },
  {
   "cell_type": "code",
   "execution_count": null,
   "metadata": {
    "id": "royizTNc5HmY"
   },
   "outputs": [],
   "source": [
    "filename = \"test.txt\"\n",
    "with open(filename, 'w') as file:\n",
    "  file.write(\"hello\")\n"
   ]
  },
  {
   "cell_type": "markdown",
   "metadata": {
    "id": "d-2mUBUg2qsW"
   },
   "source": [
    "## Modes\n",
    "`w`: writing - creates a new empty file\n",
    "\n",
    "`r`: reading\n",
    "\n",
    "`a`: append - writes to the end of an existing file (or creates a new one if it doesn't exist)\n",
    "\n",
    "`w+`: writing and reading\n",
    "\n",
    "`a+`: appending and reading\n",
    "\n",
    "`r+`: reading and writing (fails if the file doesn't already exist)"
   ]
  },
  {
   "cell_type": "markdown",
   "metadata": {
    "id": "SN1kRY2LZZSZ"
   },
   "source": [
    "## Writing text to a file\n",
    "Whenever you want to read or write to a file in Python, you first need to _open_ the file. You do this by calling the `open()` function which returns a _file object_ that you can use later to refer to that file.\n",
    "\n",
    "Open takes two parameters. The first is the name of the file you want to read or write. The second is a string which describes what you want to do with the file. If you want to create a competely new file to write to use `'w'`\n",
    "```\n",
    "file = open(\"test.txt\", 'w')\n",
    "```\n",
    "NB: `file` here is just the identifier, i.e. the name we've given this file object. You can call it anything you like.\n",
    "\n",
    "Once you have opened a file for writing, you can write text to it using `file.write()`. `write()` works  like `print()`. It writes a string to the file followed by a new line.\n",
    "\n",
    "```\n",
    "file.write(\"testing...\")\n",
    "```\n",
    "\n",
    "When you have finished using a file, you must close it, so that other programs can access the file. If you don't close it, Python will usually close it for you when your program finishes, but you should always remember to explicityly close files anyway. Files can get corrupted if you don't\n",
    "\n",
    "```\n",
    "file.close()\n",
    "```\n",
    "\n"
   ]
  },
  {
   "cell_type": "markdown",
   "metadata": {
    "id": "T9ynQUyvzkw1"
   },
   "source": [
    "## Reading from a file\n",
    "Reading from a file works in a similar way to writing. You start by calling the open() function which returns a file object that you can use later to refer to that file.\n",
    "\n",
    "Instead of using the \"w\" argument, this time you use \"r\" for _read_\n",
    "\n",
    "`file = open(\"test.txt\", 'r')`\n",
    "\n",
    "Now you can read from the file using: file.read(), file.readline() or file.readlines()\n",
    "\n",
    "|     |   |\n",
    "|--|--|\n",
    "|read()| Reads the entire file and creates a string. |\n",
    "|readline()| Reads one line at a time. Can be used in a loop. |\n",
    "|readlines()| Reads the entire file into a list. Each item is a line from the file.|\n",
    "\n",
    "The following code would read the contents of a file into a list and then display the list\n",
    "```\n",
    "test_file = open('text.txt', 'r')\n",
    "lines_list = test_file.readlines()\n",
    "print(lines_list)\n",
    "```\n",
    "\n",
    "\n",
    "You can also simply iterate through the file that you opened and automatically fetch one line at a time:\n",
    "\n",
    "```\n",
    "for line in file:\n",
    "    print(line.strip())\n",
    "```\n",
    "\n",
    "As before, you should always close the file when finished with it.\n",
    "\n",
    "`file.close()`"
   ]
  },
  {
   "cell_type": "code",
   "execution_count": null,
   "metadata": {
    "colab": {
     "base_uri": "https://localhost:8080/"
    },
    "id": "Qd9ouQc0z9QR",
    "outputId": "13ca1722-5a63-4f9c-dd07-336be634ae1f"
   },
   "outputs": [],
   "source": [
    "with open(\"test.txt\", 'r') as file:\n",
    "  text = file.readline()\n",
    "  print(text)\n",
    "  for line in file:\n",
    "    print(line)\n"
   ]
  },
  {
   "cell_type": "markdown",
   "metadata": {
    "id": "aZP0mzil52R1"
   },
   "source": [
    "## Binary\n",
    "It is also possible to write binary instead of text.\n",
    "\n",
    "You can use the `bytes()` function to convert a list of integers into bytes"
   ]
  },
  {
   "cell_type": "code",
   "execution_count": null,
   "metadata": {
    "id": "yvq_egyU5wYc"
   },
   "outputs": [],
   "source": [
    "filename = \"test\"\n",
    "with open(filename, 'wb') as file:\n",
    "  int_list = [x for x in range(256)]\n",
    "  print(\"Int list:\", int_list)\n",
    "  file.write(bytes(int_list))"
   ]
  },
  {
   "cell_type": "markdown",
   "metadata": {
    "id": "itWzOS78ceFd"
   },
   "source": [
    "## CSV files\n"
   ]
  },
  {
   "cell_type": "markdown",
   "metadata": {
    "id": "1yiI4A4720in"
   },
   "source": [
    "Using the csv module can make things a bit easier when dealing with csv files. For example you can state what kind of quote style you want eg:\n",
    "\n",
    "quoting | effect\n",
    "--|--\n",
    "QUOTE_ALL | quote marks around every field\n",
    "QUOTE_NONNUMERIC | quote marks around strings but not numbers\n",
    "QUOTE_MINIMAL | quotes only used when necessary eg with special characters\n",
    "QUOTE_NONE | No quotes"
   ]
  },
  {
   "cell_type": "code",
   "execution_count": null,
   "metadata": {
    "id": "JZ12oe9Qckzv"
   },
   "outputs": [],
   "source": [
    "import csv\n",
    "with open('employee_file.csv', mode='w') as employee_file:\n",
    "    employee_writer = csv.writer(employee_file, delimiter=',', quotechar='\"', quoting=csv.QUOTE_NONNUMERIC)\n",
    "    employee_writer.writerow(['Name', 'Department', 'Birthday'])\n",
    "    employee_writer.writerow(['John Smith', 'Accounting', 'November'])\n",
    "    employee_writer.writerow(['Erica Meyers', 'IT', 'March'])"
   ]
  },
  {
   "cell_type": "code",
   "execution_count": null,
   "metadata": {
    "colab": {
     "base_uri": "https://localhost:8080/"
    },
    "id": "jAYnDajCc3-N",
    "outputId": "e42ea09e-2762-4a66-d4a7-7610f17a5bf0"
   },
   "outputs": [],
   "source": [
    "import csv\n",
    "\n",
    "with open('employee_file.csv') as csv_file:\n",
    "    csv_reader = csv.reader(csv_file, delimiter=',')\n",
    "    for i, row in enumerate(csv_reader):\n",
    "        if i == 0:\n",
    "            print(f'Column names are {\", \".join(row)}')\n",
    "        else:\n",
    "            print(f'\\t{row[0]} works in the {row[1]} department, and was born in {row[2]}.')\n",
    "    print(f'Processed {i} lines.')"
   ]
  },
  {
   "cell_type": "code",
   "execution_count": null,
   "metadata": {
    "colab": {
     "base_uri": "https://localhost:8080/"
    },
    "id": "k20WHCi21lKs",
    "outputId": "488d299b-e8f4-43a1-ae9d-f7290863620a"
   },
   "outputs": [],
   "source": [
    "with open('employee_file.csv','r') as csv_file:\n",
    "    data = csv.DictReader(csv_file, delimiter=',', quotechar='\"', quoting=csv.QUOTE_NONNUMERIC)\n",
    "    for row in data:\n",
    "        print(row['Name'], row['Department'])"
   ]
  },
  {
   "cell_type": "markdown",
   "metadata": {
    "id": "f1-x_i7415pJ"
   },
   "source": [
    "## JSON data"
   ]
  },
  {
   "cell_type": "code",
   "execution_count": null,
   "metadata": {
    "colab": {
     "base_uri": "https://localhost:8080/"
    },
    "id": "jGjDcyxF18iW",
    "outputId": "51f850b7-a16a-46dc-9be0-3bae2725e68b"
   },
   "outputs": [],
   "source": [
    "import json\n",
    "print(\"\\nDictionary:\")\n",
    "data_dictionary = {\"gold\": 1271,\"silver\": 1284,\"platinum\": 1270}\n",
    "print(data_dictionary)\n",
    "\n",
    "print(\"\\nString\")\n",
    "data_string = json.dumps(data_dictionary, indent=2)\n",
    "print(data_string)\n",
    "\n",
    "print(\"\\nDictionary loaded from string:\")\n",
    "data = json.loads(data_string)\n",
    "print(data)\n",
    "print(data['gold'])\n",
    "\n",
    "\n",
    "\n"
   ]
  },
  {
   "cell_type": "code",
   "execution_count": null,
   "metadata": {
    "colab": {
     "base_uri": "https://localhost:8080/"
    },
    "id": "J0rwdqpj_vaV",
    "outputId": "a724d212-62e9-410c-8e67-e09b6499aa61"
   },
   "outputs": [],
   "source": [
    "import urllib.request\n",
    "# download raw json object\n",
    "name = 'fred'\n",
    "url = f\"https://api.agify.io/?name={name}\"\n",
    "data = urllib.request.urlopen(url).read().decode()\n",
    "print(data)\n"
   ]
  },
  {
   "cell_type": "markdown",
   "metadata": {
    "id": "DWcgbcHC9uh5"
   },
   "source": [
    "## XML Files\n",
    "\n"
   ]
  },
  {
   "cell_type": "code",
   "execution_count": null,
   "metadata": {
    "colab": {
     "base_uri": "https://localhost:8080/"
    },
    "id": "xupz0OT33GPa",
    "outputId": "92d86162-a06c-4055-b0c4-7b385697aac1"
   },
   "outputs": [],
   "source": [
    "import xml.etree.ElementTree as et\n",
    "\n",
    "# get root element\n",
    "root = et.Element(\"bookstore\")\n",
    "new_book = et.SubElement(root, 'book', {'category':'comedy'})\n",
    "# new_book.text = \"A book\"\n",
    "title = et.SubElement(new_book, 'title')\n",
    "title.text = \"Watership Down\"\n",
    "author = et.SubElement(new_book, 'author')\n",
    "author.text = \"Richard Adams\"\n",
    "# new_book.set('price', '100')\n",
    "# print(root)\n",
    "xml_string = et.tostring(root).decode('utf8')\n",
    "print(xml_string)"
   ]
  },
  {
   "cell_type": "code",
   "execution_count": null,
   "metadata": {
    "colab": {
     "base_uri": "https://localhost:8080/"
    },
    "id": "Yn-NTFg39wYI",
    "outputId": "6392d6ab-1397-463c-f34d-d5235ece236a"
   },
   "outputs": [],
   "source": [
    "import xml.etree.ElementTree as et\n",
    "\n",
    "# get root element\n",
    "root = et.Element(\"bookstore\")\n",
    "\n",
    "new_book = et.SubElement(root, 'book', {'category':'comedy'})\n",
    "title = et.SubElement(new_book, 'title')\n",
    "author = et.SubElement(new_book, 'author')\n",
    "title.text = 'XML is Fun'\n",
    "author.text = 'Mr Lomax'\n",
    "new_book.set('year', '2020')\n",
    "new_book.set('price', '100.00')\n",
    "\n",
    "xml_string = et.tostring(root).decode('utf8')\n",
    "print(xml_string)\n",
    "\n",
    "with open(\"books.xml\", \"w\") as xml_file:\n",
    "        xml_file.write(xml_string)\n"
   ]
  },
  {
   "cell_type": "code",
   "execution_count": null,
   "metadata": {
    "colab": {
     "base_uri": "https://localhost:8080/"
    },
    "id": "60umc89V-qXm",
    "outputId": "15ecfc3a-ac44-4362-ff8e-378d8bdc629c"
   },
   "outputs": [],
   "source": [
    "import xml.etree.ElementTree as et\n",
    "\n",
    "with open(\"books.xml\", 'r') as xmlfile:\n",
    "    data = xmlfile.read()\n",
    "\n",
    "root = et.fromstring(data)\n",
    "print(et.tostring(root).decode('utf8'))"
   ]
  },
  {
   "cell_type": "code",
   "execution_count": null,
   "metadata": {
    "colab": {
     "base_uri": "https://localhost:8080/",
     "height": 141
    },
    "id": "Uopcgr319PDN",
    "outputId": "2324241d-c7bf-44fa-d972-5d4957dcdd95"
   },
   "outputs": [],
   "source": [
    "import urllib.request\n",
    "# url of rss feed\n",
    "rssurl = 'https://api.coronavirus.data.gov.uk/v2/data?areaType=overview&metric=cumCasesByPublishDate&format=xml'\n",
    "# creating HTTP response object from given url\n",
    "resp = urllib.request.urlopen(rssurl)\n",
    "resp.read().decode(\"utf8\")\n",
    "\n"
   ]
  },
  {
   "cell_type": "markdown",
   "metadata": {
    "id": "SGtqXu2-UXd5"
   },
   "source": [
    "# SQLite3 Database"
   ]
  },
  {
   "cell_type": "code",
   "execution_count": null,
   "metadata": {
    "colab": {
     "base_uri": "https://localhost:8080/"
    },
    "id": "_eB6G6azVtre",
    "outputId": "ed55e43a-293c-4f93-b005-8f79314d23ec"
   },
   "outputs": [],
   "source": [
    "import sqlite3\n",
    "\n",
    "conn = sqlite3.connect('sample_data//chinook.db')\n",
    "print(\"Opened database successfully\")\n",
    "\n",
    "cursor = conn.execute(\"SELECT * from albums where Title like '%piano%'\")\n",
    "for row in cursor:\n",
    "    print(row[0], row[1])\n",
    "\n",
    "print(\"Operation done successfully\")\n",
    "conn.close()\n"
   ]
  },
  {
   "cell_type": "code",
   "execution_count": null,
   "metadata": {
    "colab": {
     "base_uri": "https://localhost:8080/"
    },
    "id": "BkdgLuF6Uorw",
    "outputId": "f1f8e126-278a-4f5f-8572-0d4ab8d2ad96"
   },
   "outputs": [],
   "source": [
    "import sqlite3\n",
    "\n",
    "conn = sqlite3.connect('test.db')\n",
    "print(\"Opened database successfully\")\n",
    "conn.execute(\"DROP TABLE students\")\n",
    "conn.execute(\"CREATE TABLE students (StudentID INTEGER PRIMARY KEY AUTOINCREMENT, FirstName TEXT, LastName TEXT)\")\n",
    "names = ('Arthur','Dent'), ('Ford','Prefect'), ('Zaphod','Beeblebrox')\n",
    "conn.executemany(\"INSERT INTO students (FirstName, LastName) VALUES (?, ?)\", names)\n",
    "\n",
    "results = conn.execute(\"SELECT * FROM students\")\n",
    "for row in results:\n",
    "    print(row[0], row[1], row)\n",
    "\n",
    "conn.commit()\n",
    "\n",
    "print(\"Operation done successfully\")\n",
    "conn.close()\n"
   ]
  },
  {
   "cell_type": "code",
   "execution_count": null,
   "metadata": {
    "colab": {
     "base_uri": "https://localhost:8080/"
    },
    "id": "WXJYy2zPX1OA",
    "outputId": "72cc76c2-90ff-437a-f158-975e7cd9c27c"
   },
   "outputs": [],
   "source": [
    "import sqlite3\n",
    "\n",
    "conn = sqlite3.connect('test.db')\n",
    "print(\"Opened database successfully\")\n",
    "\n",
    "results = conn.execute(\"SELECT * FROM students\")\n",
    "for row in results:\n",
    "    print(row[0], row[1], row)\n",
    "\n",
    "print(\"Operation done successfully\")\n",
    "conn.close()\n"
   ]
  },
  {
   "cell_type": "markdown",
   "metadata": {
    "id": "JkNVdjuBNB9n"
   },
   "source": [
    "# Miscellaneous Notes"
   ]
  },
  {
   "cell_type": "code",
   "execution_count": null,
   "metadata": {
    "colab": {
     "base_uri": "https://localhost:8080/",
     "height": 218
    },
    "id": "3XGaHpgd4oaN",
    "outputId": "db64ab04-8da8-45bd-8ad0-d47aca775a65"
   },
   "outputs": [],
   "source": [
    "import math\n",
    "print((-9)**0.5)\n",
    "print(math.sqrt(-9))"
   ]
  },
  {
   "cell_type": "markdown",
   "metadata": {
    "id": "ePKc51tKNNHJ"
   },
   "source": [
    "## 30th September 2020"
   ]
  },
  {
   "cell_type": "code",
   "execution_count": null,
   "metadata": {
    "colab": {
     "base_uri": "https://localhost:8080/",
     "height": 85
    },
    "id": "0aZ9y7gWNQ8o",
    "outputId": "01c5351c-442f-4e07-b868-6c109276c7fa"
   },
   "outputs": [],
   "source": [
    "# Finonacci sequence\n",
    "a = 1\n",
    "b = 2\n",
    "print(f'a: {a}, b: {b}')\n",
    "# Three lines of code needed.\n",
    "c = a+b\n",
    "a = b\n",
    "b = c\n",
    "print(f'a: {a}, b: {b}')\n",
    "\n",
    "###########\n",
    "\n",
    "a = 1\n",
    "b = 2\n",
    "print(f'a: {a}, b: {b}')\n",
    "# Or just one line using tuples\n",
    "a, b = b, a+b\n",
    "print(f'a: {a}, b: {b}')\n"
   ]
  },
  {
   "cell_type": "code",
   "execution_count": null,
   "metadata": {
    "colab": {
     "base_uri": "https://localhost:8080/",
     "height": 51
    },
    "id": "oPQk-aFLN3c1",
    "outputId": "f30cbc49-bb49-4974-d3a9-59486bce9950"
   },
   "outputs": [],
   "source": [
    "## Same technique used to swap two numbers\n",
    "a, b = 1, 2\n",
    "print(a, b)\n",
    "a, b = b, a\n",
    "print(a, b)"
   ]
  },
  {
   "cell_type": "markdown",
   "metadata": {
    "id": "RjmF1CtPQTsx"
   },
   "source": [
    "FizzBuzz:\n",
    "\n",
    "If 3 and 5 are both factors, then 3x5 is a factor. So you can test for i % 15 == 0"
   ]
  },
  {
   "cell_type": "code",
   "execution_count": null,
   "metadata": {
    "colab": {
     "base_uri": "https://localhost:8080/",
     "height": 1000
    },
    "id": "yQ_NORP2UOUp",
    "outputId": "d74819ee-d883-46d5-de20-e86ff72c3279"
   },
   "outputs": [],
   "source": [
    "# This works but be reordering the if statements you could make some of the conditions implicit.\n",
    "for x in range(1, 101):\n",
    "  if x % 3 == 0 and not x % 5 == 0:\n",
    "    print('FIZZ')\n",
    "  elif x % 5 == 0 and not x % 3 == 0:\n",
    "    print('BUZZ')\n",
    "  elif x % 5 == 0 and x % 3 == 0:\n",
    "    print('FIZZBUZZ')\n",
    "  else:\n",
    "    print(x)"
   ]
  },
  {
   "cell_type": "code",
   "execution_count": null,
   "metadata": {
    "colab": {
     "base_uri": "https://localhost:8080/",
     "height": 1000
    },
    "id": "znHWiePySm4A",
    "outputId": "ff7e69b2-d746-42d2-c28c-0d4fe1ac5cb6"
   },
   "outputs": [],
   "source": [
    "for x in range(1, 101):\n",
    "  if x % 3 == 0 and x % 5 == 0:\n",
    "    print(\"FizzBuzz\")\n",
    "  elif x % 3 == 0:\n",
    "    print(\"Fizz\")\n",
    "  elif x % 5 == 0:\n",
    "    print(\"Buzz\")\n",
    "  else:\n",
    "    print(x)"
   ]
  },
  {
   "cell_type": "code",
   "execution_count": null,
   "metadata": {
    "id": "f_6kP4v5Rffh"
   },
   "outputs": [],
   "source": [
    "# What's wrong with the logic here?\n",
    "def fizz_buzz():\n",
    "    for i in range(100):\n",
    "        x = i + 1\n",
    "        if x % 3 == 0:\n",
    "            if x % 3 == 0:\n",
    "                print(\"Fizz\")\n",
    "            elif x % 5 == 0:\n",
    "                print(\"FizzBuzz\")\n",
    "        elif x % 5 == 0:\n",
    "            print(\"Buzz\")\n",
    "        else:\n",
    "            print(x)\n",
    "\n",
    "fizz_buzz()"
   ]
  },
  {
   "cell_type": "code",
   "execution_count": null,
   "metadata": {
    "colab": {
     "base_uri": "https://localhost:8080/",
     "height": 1000
    },
    "id": "hLLgZ_zKSdk7",
    "outputId": "a60c36ec-0dca-4ab8-b121-f469bb39c5ab"
   },
   "outputs": [],
   "source": [
    "# An alternative solution\n",
    "for i in range(1,101):\n",
    "    if i % 3 == 0: print('Fizz', end='')\n",
    "    if i % 5 == 0: print('Buzz', end='')\n",
    "    if i % 3 and i % 5: print(i, end='')\n",
    "    print()"
   ]
  },
  {
   "cell_type": "markdown",
   "metadata": {
    "id": "pk631X0tDjXa"
   },
   "source": [
    "## 2nd October 2020 - Happy Numbers"
   ]
  },
  {
   "cell_type": "code",
   "execution_count": null,
   "metadata": {
    "id": "4nLNEMq3DtHE"
   },
   "outputs": [],
   "source": [
    "# Happy numbers\n",
    "def is_happy(test_number):\n",
    "    while test_number != 1:\n",
    "        # If the new test number is a 4 it would cycle for ever, so the number must be sad.\n",
    "        if test_number == 4 or test_number == 0:\n",
    "            return False\n",
    "\n",
    "        # Cast integer to string for indexing each digit\n",
    "        test_string = str(test_number)\n",
    "        total = 0\n",
    "        # Calculate each digit in the number\n",
    "        for digit in test_string:\n",
    "            # Cast the digit to an integer\n",
    "            digit = int(digit)\n",
    "            # Calculate the new number\n",
    "            total = total + (digit * digit)\n",
    "        test_number = total\n",
    "    return True"
   ]
  },
  {
   "cell_type": "code",
   "execution_count": null,
   "metadata": {
    "colab": {
     "base_uri": "https://localhost:8080/",
     "height": 34
    },
    "id": "MAsjC05bKXWe",
    "outputId": "8412ecc0-844f-49fc-a7f6-d9e94c2f080b"
   },
   "outputs": [],
   "source": [
    "is_happy(7)"
   ]
  },
  {
   "cell_type": "code",
   "execution_count": null,
   "metadata": {
    "colab": {
     "base_uri": "https://localhost:8080/",
     "height": 54
    },
    "id": "vUxmiW4yKter",
    "outputId": "5e3dbd5d-376b-4a67-97fa-36d37685f9b1"
   },
   "outputs": [],
   "source": [
    "happy_list = []\n",
    "for i in range(1, 100000):\n",
    "    if is_happy(i):\n",
    "        happy_list.append(i)\n",
    "\n",
    "print(happy_list)"
   ]
  },
  {
   "cell_type": "code",
   "execution_count": null,
   "metadata": {
    "id": "TGfzh0tKL4pg"
   },
   "outputs": [],
   "source": [
    "def is_happy_optimised1(test_number):\n",
    "    while test_number != 1:\n",
    "        # If the new test number is a 4 it would cycle for ever, so the number must be sad.\n",
    "        if test_number in {0, 4, 16, 37, 58, 89, 145, 42, 20}:\n",
    "            return False\n",
    "\n",
    "        # Cast integer to string for indexing each digit\n",
    "        test_string = str(test_number)\n",
    "        total = 0\n",
    "        # Calculate each digit in the number\n",
    "        for digit in test_string:\n",
    "            # Cast the digit to an integer\n",
    "            digit = int(digit)\n",
    "            # Calculate the new number\n",
    "            total = total + (digit * digit)\n",
    "        test_number = total\n",
    "    return True"
   ]
  },
  {
   "cell_type": "code",
   "execution_count": null,
   "metadata": {
    "id": "eM3s67YgLia0"
   },
   "outputs": [],
   "source": [
    "def is_happy_optimised2(test_number):\n",
    "    happy_set = {1}\n",
    "    while test_number not in happy_set:\n",
    "        # If the new test number is a 4 it would cycle for ever, so the number must be sad.\n",
    "        if test_number in {0, 4, 16, 37, 58, 89, 145, 42, 20}:\n",
    "            return False\n",
    "\n",
    "        # Cast integer to string for indexing each digit\n",
    "        test_string = str(test_number)\n",
    "        total = 0\n",
    "        # Calculate each digit in the number\n",
    "        for digit in test_string:\n",
    "            # Cast the digit to an integer\n",
    "            digit = int(digit)\n",
    "            # Calculate the new number\n",
    "            total = total + (digit * digit)\n",
    "        test_number = total\n",
    "        happy_set.add(test_number)\n",
    "    return True"
   ]
  },
  {
   "cell_type": "code",
   "execution_count": null,
   "metadata": {
    "id": "OXXIZCxLLj_d"
   },
   "outputs": [],
   "source": [
    "def is_happy_optimised3(test_number):\n",
    "    happy_set = {1}\n",
    "    while int(''.join(sorted(str(test_number)))) not in happy_set:\n",
    "        # If the new test number is a 4 it would cycle for ever, so the number must be sad.\n",
    "        if test_number in {0, 4, 16, 37, 58, 89, 145, 42, 20}:\n",
    "            return False\n",
    "\n",
    "        # Cast integer to string for indexing each digit\n",
    "        test_string = str(test_number)\n",
    "        total = 0\n",
    "        # Calculate each digit in the number\n",
    "        for digit in test_string:\n",
    "            # Cast the digit to an integer\n",
    "            digit = int(digit)\n",
    "            # Calculate the new number\n",
    "            total = total + (digit * digit)\n",
    "        test_number = total\n",
    "        happy_set.add(int(''.join(sorted(str(test_number)))))\n",
    "    return True"
   ]
  },
  {
   "cell_type": "code",
   "execution_count": null,
   "metadata": {
    "colab": {
     "base_uri": "https://localhost:8080/",
     "height": 85
    },
    "id": "FqdQIXRWLovd",
    "outputId": "54b1b882-be2d-483e-ad17-a41a90450deb"
   },
   "outputs": [],
   "source": [
    "import time\n",
    "\n",
    "# Test every number between 1 and 1000.\n",
    "# Add it to a list if it is happy.\n",
    "def time_test(happy_func, n):\n",
    "    t1 = time.perf_counter()\n",
    "    happy_list = []\n",
    "    for i in range(1, n):\n",
    "        if happy_func(i):\n",
    "            happy_list.append(i)\n",
    "        # print(f'{i}: {is_happy(i)}')\n",
    "    return time.perf_counter()-t1\n",
    "\n",
    "\n",
    "def test_multiple_functions(function_list, n, i):\n",
    "    for test_func in function_list:\n",
    "        t = 0\n",
    "        for _ in range(i):\n",
    "            t += time_test(test_func, n)\n",
    "\n",
    "        print(f\"{test_func.__name__}: t = {t / i:.5f}\")\n",
    "\n",
    "\n",
    "test_multiple_functions([is_happy, is_happy_optimised1, is_happy_optimised2, is_happy_optimised3], 100, 10)"
   ]
  }
 ],
 "metadata": {
  "colab": {
   "collapsed_sections": [
    "ePKc51tKNNHJ",
    "pk631X0tDjXa"
   ],
   "provenance": []
  },
  "kernelspec": {
   "display_name": ".venv",
   "language": "python",
   "name": "python3"
  },
  "language_info": {
   "codemirror_mode": {
    "name": "ipython",
    "version": 3
   },
   "file_extension": ".py",
   "mimetype": "text/x-python",
   "name": "python",
   "nbconvert_exporter": "python",
   "pygments_lexer": "ipython3",
   "version": "3.13.7"
  }
 },
 "nbformat": 4,
 "nbformat_minor": 0
}
